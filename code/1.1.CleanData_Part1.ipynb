{
 "cells": [
  {
   "cell_type": "markdown",
   "metadata": {},
   "source": [
    "# BigData Final Project | Steam\n",
    "## <font color = 'blue'> Notebook 1 | Clean Data _ Part 1 </font>\n",
    "### Team Member: Jim Fang, WooJong Choi, Han Jeon, Tam Nguyen\n",
    "June 2020\n",
    "___"
   ]
  },
  {
   "cell_type": "markdown",
   "metadata": {},
   "source": [
    "### Steam Data\n",
    "https://steam.internet.byu.edu/#\n",
    "\n",
    "\n",
    "### Clean & add column to data"
   ]
  },
  {
   "cell_type": "markdown",
   "metadata": {},
   "source": [
    "---\n",
    "## I. Import Libraries"
   ]
  },
  {
   "cell_type": "code",
   "execution_count": 1,
   "metadata": {},
   "outputs": [],
   "source": [
    "from pyspark import SparkContext, SparkConf\n",
    "from pyspark.context import SparkContext\n",
    "from pyspark.sql import SparkSession\n",
    "from pyspark.sql import functions as F\n",
    "import pyspark.sql.types as t\n",
    "from pyspark.sql.functions import broadcast\n",
    "from pyspark.sql.functions import regexp_replace\n",
    "from pyspark.sql.types import IntegerType\n",
    "from pyspark.sql.functions import isnan, when, count, col, size\n",
    "from functools import reduce\n",
    "\n",
    "import matplotlib.pyplot as plt\n",
    "%matplotlib inline"
   ]
  },
  {
   "cell_type": "code",
   "execution_count": 2,
   "metadata": {},
   "outputs": [],
   "source": [
    "spark = SparkSession.builder.enableHiveSupport().appName('ReadWriteData').getOrCreate()\n",
    "sc = spark.sparkContext"
   ]
  },
  {
   "cell_type": "code",
   "execution_count": 3,
   "metadata": {},
   "outputs": [
    {
     "name": "stdout",
     "output_type": "stream",
     "text": [
      "WARNING: log4j.properties is not found. HADOOP_CONF_DIR may be incomplete.\n",
      "Java HotSpot(TM) 64-Bit Server VM warning: ignoring option MaxPermSize=512M; support was removed in 8.0\n",
      "Found 7 items\n",
      "-rwxrwxrwx   3 tamng   tamng 5116243481 2020-05-09 22:16 /user/tamng/jwht/SteamData/Games2_100milrows.csv\n",
      "-rwxrwxrwx   3 tamng   tamng   79545914 2020-05-09 22:16 /user/tamng/jwht/SteamData/app_id_info_join.csv\n",
      "-rwxrwxrwx   3 tamng   tamng 1045968424 2020-05-09 22:17 /user/tamng/jwht/SteamData/friends_subset.csv\n",
      "drwxr-xr-x   - hanjeon tamng          0 2020-05-17 22:42 /user/tamng/jwht/SteamData/game2_df.csv\n",
      "-rwxrwxrwx   3 tamng   tamng   83366366 2020-05-09 22:16 /user/tamng/jwht/SteamData/groups_subset.csv\n",
      "-rwxrwxrwx   3 tamng   tamng     568119 2020-05-09 22:16 /user/tamng/jwht/SteamData/metacritic_games.csv\n",
      "-rwxrwxrwx   3 tamng   tamng  899281516 2020-05-09 22:16 /user/tamng/jwht/SteamData/player_summaries_subset.csv\n"
     ]
    }
   ],
   "source": [
    "!hdfs dfs -ls /user/tamng/jwht/SteamData"
   ]
  },
  {
   "cell_type": "code",
   "execution_count": 4,
   "metadata": {},
   "outputs": [
    {
     "name": "stdout",
     "output_type": "stream",
     "text": [
      "WARNING: log4j.properties is not found. HADOOP_CONF_DIR may be incomplete.\n",
      "Java HotSpot(TM) 64-Bit Server VM warning: ignoring option MaxPermSize=512M; support was removed in 8.0\n",
      "Found 1 items\n",
      "-rwxrwxrwx   3 tamng tamng     106856 2020-05-17 12:21 /user/tamng/jwht/code/1.JoinData.ipynb\n"
     ]
    }
   ],
   "source": [
    "!hdfs dfs -ls /user/tamng/jwht/code"
   ]
  },
  {
   "cell_type": "code",
   "execution_count": null,
   "metadata": {},
   "outputs": [],
   "source": [
    "def check_missing(df):\n",
    "    ''' Check missing value'''\n",
    "    df.select([count(when(col(c).isNull(), c)).alias(c) for c in df.columns]).show()"
   ]
  },
  {
   "cell_type": "code",
   "execution_count": null,
   "metadata": {},
   "outputs": [],
   "source": [
    "def rename_col(df, newColumns):\n",
    "    ''' Rename all columns\n",
    "        df - dataset\n",
    "        newColumns - list of columns name '''\n",
    "    oldColumns = df.schema.names\n",
    "    df = reduce(lambda df, idx: df.withColumnRenamed(oldColumns[idx], newColumns[idx]), range(len(oldColumns)), df)\n",
    "    return df"
   ]
  },
  {
   "cell_type": "code",
   "execution_count": null,
   "metadata": {},
   "outputs": [],
   "source": [
    "def basic_info(df):\n",
    "    \n",
    "    '''\n",
    "        Print out the basic ddescription for each table, icluding:\n",
    "        1. total rows/ observation\n",
    "        2. Check missing value by columns\n",
    "        3. Print out the first 3 lines\n",
    "        4. Basic description\n",
    "    '''\n",
    "    \n",
    "    print('TOTAL ROWS:', df.count())\n",
    "    print('\\n')\n",
    "    print('*-------------'*5)\n",
    "    print('\\n')\n",
    "    print('MISSING VALUE:')\n",
    "    check_missing(df)\n",
    "    print('*-------------'*5)\n",
    "    print('\\n')\n",
    "    print('PRINT OUT THE 1st 3 LINES:')\n",
    "    df.show(3, truncate = True)\n",
    "    print('*-------------'*5)\n",
    "    print('\\n')\n",
    "    print('TABLE BASIC DESCRIPTION:')\n",
    "    df.describe().show(10,truncate = True)\n",
    "    print('*-------------'*5)\n",
    "    distinct_count = []\n",
    "    column_name = df.columns\n",
    "    for i in column_name:\n",
    "        distinct_count.append(df.select(col(i)).distinct().count())\n",
    "\n",
    "    print('DISTINCT COUNT BY COLUMN:')\n",
    "    print('\\n')\n",
    "    print(pd.DataFrame(zip(column_name,distinct_count)).\\\n",
    "      rename(columns={0:'column_name', 1:'distinct_count'}))"
   ]
  },
  {
   "cell_type": "markdown",
   "metadata": {},
   "source": [
    "---\n",
    "## II. Import Dataset"
   ]
  },
  {
   "cell_type": "markdown",
   "metadata": {},
   "source": [
    "### 1. 1st dataset: game2.csv\n",
    "\n",
    "Expected final table structure: \n",
    "\n",
    "|No.|Column | Type | Description\n",
    "|--|--|--|--|\n",
    "|1|steam_id|int| The steam ID of the user in question|\n",
    "|2|app_id|int|The ID of a given app in the user's library|\n",
    "|3|playtime_2weeks|int|The total time the user has run this app in the two-week period leading up to when this data was requested from the API. Values are given in minutes.|\n",
    "|4|playtime_forever|int|The total time the user has run this app since adding it to their library. Values are given in minutes.|\n",
    "|5|dateretrieved|timestap|Timestamp of the time when this game data was requested from the API|"
   ]
  },
  {
   "cell_type": "markdown",
   "metadata": {},
   "source": [
    "__NOTES__\n",
    "\n",
    "- Need to create the schema with 5 columns, otherwise, it only input 3 cols and we will miss 1.8 mil rows"
   ]
  },
  {
   "cell_type": "code",
   "execution_count": 4,
   "metadata": {},
   "outputs": [],
   "source": [
    "game2_schema = t.StructType([t.StructField('_c0', t.StringType(), False), \n",
    "                       t.StructField('_c1', t.IntegerType(), False),\n",
    "                       t.StructField('_c2', t.StringType(), False),\n",
    "                       t.StructField('_c3', t.StringType(), False),\n",
    "                       t.StructField('_c4', t.StringType(), False)])"
   ]
  },
  {
   "cell_type": "code",
   "execution_count": 5,
   "metadata": {},
   "outputs": [],
   "source": [
    "# Load 1st dataset: game2\n",
    "game2 = spark.read.option('header', False).schema(game2_schema).csv('/user/tamng/jwht/SteamData/Games2_100milrows.csv')"
   ]
  },
  {
   "cell_type": "code",
   "execution_count": 6,
   "metadata": {},
   "outputs": [
    {
     "data": {
      "text/plain": [
       "39"
      ]
     },
     "execution_count": 6,
     "metadata": {},
     "output_type": "execute_result"
    }
   ],
   "source": [
    "# Check number of parition\n",
    "game2.rdd.getNumPartitions()"
   ]
  },
  {
   "cell_type": "code",
   "execution_count": 7,
   "metadata": {},
   "outputs": [
    {
     "data": {
      "text/plain": [
       "100000000"
      ]
     },
     "execution_count": 7,
     "metadata": {},
     "output_type": "execute_result"
    }
   ],
   "source": [
    "# Count total number of observations\n",
    "game2.count()"
   ]
  },
  {
   "cell_type": "code",
   "execution_count": 7,
   "metadata": {},
   "outputs": [
    {
     "name": "stdout",
     "output_type": "stream",
     "text": [
      "root\n",
      " |-- _c0: string (nullable = true)\n",
      " |-- _c1: integer (nullable = true)\n",
      " |-- _c2: string (nullable = true)\n",
      " |-- _c3: string (nullable = true)\n",
      " |-- _c4: string (nullable = true)\n",
      "\n"
     ]
    }
   ],
   "source": [
    "# Print Schema\n",
    "game2.printSchema()"
   ]
  },
  {
   "cell_type": "code",
   "execution_count": 8,
   "metadata": {},
   "outputs": [
    {
     "data": {
      "text/plain": [
       "[Row(_c0='76561197960265729', _c1=10, _c2='\"N,0,\"2014-08-14 14:04:18\"', _c3=None, _c4=None),\n",
       " Row(_c0='76561197960265729', _c1=20, _c2='\"N,0,\"2014-08-14 14:04:18\"', _c3=None, _c4=None)]"
      ]
     },
     "execution_count": 8,
     "metadata": {},
     "output_type": "execute_result"
    }
   ],
   "source": [
    "# Print out the first 2 lines of data\n",
    "game2.head(2)"
   ]
  },
  {
   "cell_type": "markdown",
   "metadata": {},
   "source": [
    "---\n",
    "__NOTES:__\n",
    ">  - Problem: Any columns that contains Null Values was combined as one column (_c2). \n",
    ">  - Solution: Split to 2 dataframes, fomrat and merge together.\n",
    "---"
   ]
  },
  {
   "cell_type": "code",
   "execution_count": 36,
   "metadata": {},
   "outputs": [
    {
     "name": "stdout",
     "output_type": "stream",
     "text": [
      "+-----------------+------+----+-----+-------------------+\n",
      "|              _c0|   _c1| _c2|  _c3|                _c4|\n",
      "+-----------------+------+----+-----+-------------------+\n",
      "|76561197960265730|    70|   1|  403|2014-08-14 14:04:45|\n",
      "|76561197960265731|   570|  25|73072|2014-08-14 14:04:45|\n",
      "|76561197960265731|  8930|1109| 1111|2014-08-14 14:04:45|\n",
      "|76561197960265731|239220|   1|  133|2014-08-14 14:04:45|\n",
      "|76561197960265733|    30|  42|   59|2014-08-14 14:04:45|\n",
      "|76561197960265733|    70|  77| 1614|2014-08-14 14:04:45|\n",
      "|76561197960265733| 71340|  18|   18|2014-08-14 14:04:45|\n",
      "|76561197960265733|290810|  61|   61|2014-08-14 14:04:45|\n",
      "|76561197960265738|   570|  25| 1108|2014-08-14 14:04:45|\n",
      "|76561197960265738|247080| 953|  953|2014-08-14 14:04:45|\n",
      "|76561197960265738|287980| 184|  184|2014-08-14 14:04:45|\n",
      "|76561197960265742|   440| 328|21481|2014-08-14 14:04:41|\n",
      "|76561197960265743|    10|   1|   41|2014-08-14 14:04:41|\n",
      "|76561197960265744|203160| 275| 1449|2014-08-14 14:04:41|\n",
      "|76561197960265744|242760| 197|  684|2014-08-14 14:04:41|\n",
      "|76561197960265744|301520|1702| 1722|2014-08-14 14:04:41|\n",
      "|76561197960265747|   570|   1|   15|2014-08-14 14:04:41|\n",
      "|76561197960265747| 17390|  15| 1543|2014-08-14 14:04:41|\n",
      "|76561197960265747| 47890|  15|  182|2014-08-14 14:04:41|\n",
      "|76561197960265747|200710| 150| 1061|2014-08-14 14:04:41|\n",
      "|76561197960265747|207140|  17|  124|2014-08-14 14:04:41|\n",
      "|76561197960265747|238460|  64|  170|2014-08-14 14:04:41|\n",
      "|76561197960265747|242760|   1|  371|2014-08-14 14:04:41|\n",
      "|76561197960265747|265930|  49|  122|2014-08-14 14:04:41|\n",
      "|76561197960265749|   440| 412|16446|2014-08-14 14:04:41|\n",
      "+-----------------+------+----+-----+-------------------+\n",
      "only showing top 25 rows\n",
      "\n"
     ]
    }
   ],
   "source": [
    "# Show data where c2 does not contain Null\n",
    "game2.where(~ col(\"_c2\").like('\"N,%')).show(25)"
   ]
  },
  {
   "cell_type": "code",
   "execution_count": 37,
   "metadata": {},
   "outputs": [
    {
     "data": {
      "text/plain": [
       "1839672"
      ]
     },
     "execution_count": 37,
     "metadata": {},
     "output_type": "execute_result"
    }
   ],
   "source": [
    "# Number of observation where c2 does not contain Null\n",
    "game2.where(~ col(\"_c2\").like('\"N,%')).count()"
   ]
  },
  {
   "cell_type": "code",
   "execution_count": 38,
   "metadata": {},
   "outputs": [
    {
     "data": {
      "text/plain": [
       "98160328"
      ]
     },
     "execution_count": 38,
     "metadata": {},
     "output_type": "execute_result"
    }
   ],
   "source": [
    "# Number of observation where c2 contains Null\n",
    "game2.where(col(\"_c2\").like('\"N,%')).count()"
   ]
  },
  {
   "cell_type": "code",
   "execution_count": 9,
   "metadata": {},
   "outputs": [],
   "source": [
    "# game2_5cols\n",
    "game2_5cols = game2.where(~ col(\"_c2\").like('\"N,%'))"
   ]
  },
  {
   "cell_type": "code",
   "execution_count": 10,
   "metadata": {},
   "outputs": [],
   "source": [
    "# game2_3cols\n",
    "game2_3cols = game2.where(col(\"_c2\").like('\"N,%'))"
   ]
  },
  {
   "cell_type": "markdown",
   "metadata": {},
   "source": [
    "### 1.1 Format game2_3cols"
   ]
  },
  {
   "cell_type": "code",
   "execution_count": 11,
   "metadata": {},
   "outputs": [
    {
     "name": "stdout",
     "output_type": "stream",
     "text": [
      "+-----------------+---+--------------------+----+----+\n",
      "|              _c0|_c1|                 _c2| _c3| _c4|\n",
      "+-----------------+---+--------------------+----+----+\n",
      "|76561197960265729| 10|\"N,0,\"2014-08-14 ...|null|null|\n",
      "|76561197960265729| 20|\"N,0,\"2014-08-14 ...|null|null|\n",
      "+-----------------+---+--------------------+----+----+\n",
      "only showing top 2 rows\n",
      "\n"
     ]
    }
   ],
   "source": [
    "game2_3cols.show(2)"
   ]
  },
  {
   "cell_type": "code",
   "execution_count": 12,
   "metadata": {},
   "outputs": [],
   "source": [
    "# Split column _c2 into 3 columns\n",
    "split_col = F.split(game2_3cols['_c2'], ',')\n",
    "\n",
    "# Merge split columns back to the orginal data and rename\n",
    "game2_3cols = game2_3cols.withColumn('playtime_2weeks', split_col.getItem(0))\n",
    "game2_3cols = game2_3cols.withColumn('playtime_forever', split_col.getItem(1))\n",
    "game2_3cols = game2_3cols.withColumn('dateretrieved', split_col.getItem(2))"
   ]
  },
  {
   "cell_type": "code",
   "execution_count": 13,
   "metadata": {},
   "outputs": [
    {
     "data": {
      "text/plain": [
       "[('_c0', 'string'),\n",
       " ('_c1', 'int'),\n",
       " ('_c2', 'string'),\n",
       " ('_c3', 'string'),\n",
       " ('_c4', 'string'),\n",
       " ('playtime_2weeks', 'string'),\n",
       " ('playtime_forever', 'string'),\n",
       " ('dateretrieved', 'string')]"
      ]
     },
     "execution_count": 13,
     "metadata": {},
     "output_type": "execute_result"
    }
   ],
   "source": [
    "# Check column type\n",
    "game2_3cols.dtypes"
   ]
  },
  {
   "cell_type": "code",
   "execution_count": 14,
   "metadata": {},
   "outputs": [
    {
     "data": {
      "text/plain": [
       "[Row(_c0='76561197960265729', _c1=10, _c2='\"N,0,\"2014-08-14 14:04:18\"', _c3=None, _c4=None, playtime_2weeks='\"N', playtime_forever='0', dateretrieved='\"2014-08-14 14:04:18\"'),\n",
       " Row(_c0='76561197960265729', _c1=20, _c2='\"N,0,\"2014-08-14 14:04:18\"', _c3=None, _c4=None, playtime_2weeks='\"N', playtime_forever='0', dateretrieved='\"2014-08-14 14:04:18\"'),\n",
       " Row(_c0='76561197960265729', _c1=30, _c2='\"N,0,\"2014-08-14 14:04:18\"', _c3=None, _c4=None, playtime_2weeks='\"N', playtime_forever='0', dateretrieved='\"2014-08-14 14:04:18\"')]"
      ]
     },
     "execution_count": 14,
     "metadata": {},
     "output_type": "execute_result"
    }
   ],
   "source": [
    "# Print out the first 3 lines\n",
    "game2_3cols.head(3)"
   ]
  },
  {
   "cell_type": "code",
   "execution_count": 15,
   "metadata": {},
   "outputs": [
    {
     "name": "stdout",
     "output_type": "stream",
     "text": [
      "+-----------------+---+--------------------+----+----+---------------+----------------+--------------------+\n",
      "|              _c0|_c1|                 _c2| _c3| _c4|playtime_2weeks|playtime_forever|       dateretrieved|\n",
      "+-----------------+---+--------------------+----+----+---------------+----------------+--------------------+\n",
      "|76561197960265729| 10|\"N,0,\"2014-08-14 ...|null|null|             \"N|               0|\"2014-08-14 14:04...|\n",
      "|76561197960265729| 20|\"N,0,\"2014-08-14 ...|null|null|             \"N|               0|\"2014-08-14 14:04...|\n",
      "|76561197960265729| 30|\"N,0,\"2014-08-14 ...|null|null|             \"N|               0|\"2014-08-14 14:04...|\n",
      "|76561197960265729| 40|\"N,0,\"2014-08-14 ...|null|null|             \"N|               0|\"2014-08-14 14:04...|\n",
      "|76561197960265729| 50|\"N,0,\"2014-08-14 ...|null|null|             \"N|               0|\"2014-08-14 14:04...|\n",
      "+-----------------+---+--------------------+----+----+---------------+----------------+--------------------+\n",
      "only showing top 5 rows\n",
      "\n"
     ]
    }
   ],
   "source": [
    "# Show 1st 5 lines\n",
    "game2_3cols.show(5)"
   ]
  },
  {
   "cell_type": "code",
   "execution_count": 16,
   "metadata": {},
   "outputs": [
    {
     "name": "stdout",
     "output_type": "stream",
     "text": [
      "+---------------+\n",
      "|playtime_2weeks|\n",
      "+---------------+\n",
      "|             \"N|\n",
      "+---------------+\n",
      "\n"
     ]
    }
   ],
   "source": [
    "# Check distinct value of playtime_2weeks\n",
    "game2_3cols.createOrReplaceTempView(\"game2_3cols\")\n",
    "spark.sql(\"SELECT DISTINCT(playtime_2weeks) FROM game2_3cols\").show()"
   ]
  },
  {
   "cell_type": "markdown",
   "metadata": {},
   "source": [
    "__Adjust format of playtime_2weeks and dateretrieved feature__"
   ]
  },
  {
   "cell_type": "code",
   "execution_count": 17,
   "metadata": {},
   "outputs": [],
   "source": [
    "# Remove \" in playtime_2weeks and dateretrieved columns\n",
    "game2_3cols = game2_3cols.withColumn('playtime_2weeks', regexp_replace('playtime_2weeks' ,'\"',''))\n",
    "game2_3cols = game2_3cols.withColumn('dateretrieved', regexp_replace('dateretrieved' ,'\"',''))"
   ]
  },
  {
   "cell_type": "code",
   "execution_count": 19,
   "metadata": {},
   "outputs": [],
   "source": [
    "# Change format to timestamp\n",
    "game2_3cols = game2_3cols.withColumn('dateretrieved', (game2_3cols.dateretrieved).cast('timestamp'))"
   ]
  },
  {
   "cell_type": "code",
   "execution_count": 20,
   "metadata": {},
   "outputs": [
    {
     "data": {
      "text/plain": [
       "[Row(_c0='76561197960265729', _c1=10, _c2='\"N,0,\"2014-08-14 14:04:18\"', _c3=None, _c4=None, playtime_2weeks='N', playtime_forever='0', dateretrieved=datetime.datetime(2014, 8, 14, 14, 4, 18)),\n",
       " Row(_c0='76561197960265729', _c1=20, _c2='\"N,0,\"2014-08-14 14:04:18\"', _c3=None, _c4=None, playtime_2weeks='N', playtime_forever='0', dateretrieved=datetime.datetime(2014, 8, 14, 14, 4, 18))]"
      ]
     },
     "execution_count": 20,
     "metadata": {},
     "output_type": "execute_result"
    }
   ],
   "source": [
    "game2_3cols.head(2)"
   ]
  },
  {
   "cell_type": "code",
   "execution_count": 21,
   "metadata": {},
   "outputs": [
    {
     "data": {
      "text/plain": [
       "[Row(steam_id='76561197960265729', app_id=10, playtime_2weeks='N', playtime_forever='0', dateretrieved=datetime.datetime(2014, 8, 14, 14, 4, 18)),\n",
       " Row(steam_id='76561197960265729', app_id=20, playtime_2weeks='N', playtime_forever='0', dateretrieved=datetime.datetime(2014, 8, 14, 14, 4, 18))]"
      ]
     },
     "execution_count": 21,
     "metadata": {},
     "output_type": "execute_result"
    }
   ],
   "source": [
    "# Drop column _c2\n",
    "game2_3cols = game2_3cols.drop(\"_c2\",\"_c3\",\"_c4\")\n",
    "\n",
    "# Rename _c0, _c1\n",
    "game2_3cols = game2_3cols.withColumnRenamed('_c0', 'steam_id').withColumnRenamed('_c1', 'app_id')\n",
    "game2_3cols.head(2)"
   ]
  },
  {
   "cell_type": "code",
   "execution_count": 22,
   "metadata": {},
   "outputs": [],
   "source": [
    "# Change column type\n",
    "game2_3cols = game2_3cols.withColumn(\"playtime_forever\", game2_3cols[\"playtime_forever\"].cast(IntegerType()))\n",
    "game2_3cols = game2_3cols.withColumn('playtime_2weeks', regexp_replace('playtime_2weeks' ,'N', '0'))\n",
    "game2_3cols = game2_3cols.withColumn(\"playtime_2weeks\", game2_3cols[\"playtime_2weeks\"].cast(IntegerType()))"
   ]
  },
  {
   "cell_type": "code",
   "execution_count": 23,
   "metadata": {
    "scrolled": true
   },
   "outputs": [
    {
     "name": "stdout",
     "output_type": "stream",
     "text": [
      "root\n",
      " |-- steam_id: string (nullable = true)\n",
      " |-- app_id: integer (nullable = true)\n",
      " |-- playtime_2weeks: integer (nullable = true)\n",
      " |-- playtime_forever: integer (nullable = true)\n",
      " |-- dateretrieved: timestamp (nullable = true)\n",
      "\n"
     ]
    }
   ],
   "source": [
    "game2_3cols.printSchema()"
   ]
  },
  {
   "cell_type": "markdown",
   "metadata": {},
   "source": [
    "### 1.2 Format game2_5cols"
   ]
  },
  {
   "cell_type": "code",
   "execution_count": 24,
   "metadata": {},
   "outputs": [
    {
     "name": "stdout",
     "output_type": "stream",
     "text": [
      "+-----------------+---+---+-----+-------------------+\n",
      "|              _c0|_c1|_c2|  _c3|                _c4|\n",
      "+-----------------+---+---+-----+-------------------+\n",
      "|76561197960265730| 70|  1|  403|2014-08-14 14:04:45|\n",
      "|76561197960265731|570| 25|73072|2014-08-14 14:04:45|\n",
      "+-----------------+---+---+-----+-------------------+\n",
      "only showing top 2 rows\n",
      "\n"
     ]
    }
   ],
   "source": [
    "game2_5cols.show(2)"
   ]
  },
  {
   "cell_type": "code",
   "execution_count": 25,
   "metadata": {},
   "outputs": [
    {
     "name": "stdout",
     "output_type": "stream",
     "text": [
      "root\n",
      " |-- _c0: string (nullable = true)\n",
      " |-- _c1: integer (nullable = true)\n",
      " |-- _c2: string (nullable = true)\n",
      " |-- _c3: string (nullable = true)\n",
      " |-- _c4: string (nullable = true)\n",
      "\n"
     ]
    }
   ],
   "source": [
    "game2_5cols.printSchema()"
   ]
  },
  {
   "cell_type": "code",
   "execution_count": 26,
   "metadata": {},
   "outputs": [
    {
     "name": "stdout",
     "output_type": "stream",
     "text": [
      "root\n",
      " |-- steam_id: string (nullable = true)\n",
      " |-- app_id: integer (nullable = true)\n",
      " |-- playtime_2weeks: string (nullable = true)\n",
      " |-- playtime_forever: string (nullable = true)\n",
      " |-- dateretrieved: string (nullable = true)\n",
      "\n"
     ]
    }
   ],
   "source": [
    "# Rename the columns\n",
    "oldColumns = game2_5cols.schema.names\n",
    "newColumns = [\"steam_id\", \"app_id\",\"playtime_2weeks\",\"playtime_forever\", \"dateretrieved\"]\n",
    "  \n",
    "game2_5cols = reduce(lambda game2_5cols, idx: game2_5cols.withColumnRenamed(oldColumns[idx], newColumns[idx]), range(len(oldColumns)), game2_5cols)\n",
    "game2_5cols.printSchema()"
   ]
  },
  {
   "cell_type": "code",
   "execution_count": 27,
   "metadata": {},
   "outputs": [],
   "source": [
    "# Change column type\n",
    "game2_5cols = game2_5cols.withColumn(\"playtime_forever\", game2_5cols[\"playtime_forever\"].cast(IntegerType()))\n",
    "game2_5cols = game2_5cols.withColumn(\"playtime_2weeks\", game2_5cols[\"playtime_2weeks\"].cast(IntegerType()))\n",
    "game2_5cols = game2_5cols.withColumn('dateretrieved', (game2_5cols.dateretrieved).cast('timestamp'))"
   ]
  },
  {
   "cell_type": "code",
   "execution_count": 28,
   "metadata": {},
   "outputs": [
    {
     "name": "stdout",
     "output_type": "stream",
     "text": [
      "root\n",
      " |-- steam_id: string (nullable = true)\n",
      " |-- app_id: integer (nullable = true)\n",
      " |-- playtime_2weeks: integer (nullable = true)\n",
      " |-- playtime_forever: integer (nullable = true)\n",
      " |-- dateretrieved: timestamp (nullable = true)\n",
      "\n"
     ]
    }
   ],
   "source": [
    "game2_5cols.printSchema()"
   ]
  },
  {
   "cell_type": "markdown",
   "metadata": {},
   "source": [
    "### 1.3 Merge game2_3cols & game2_5cols"
   ]
  },
  {
   "cell_type": "code",
   "execution_count": 29,
   "metadata": {},
   "outputs": [
    {
     "name": "stdout",
     "output_type": "stream",
     "text": [
      "root\n",
      " |-- steam_id: string (nullable = true)\n",
      " |-- app_id: integer (nullable = true)\n",
      " |-- playtime_2weeks: integer (nullable = true)\n",
      " |-- playtime_forever: integer (nullable = true)\n",
      " |-- dateretrieved: timestamp (nullable = true)\n",
      "\n"
     ]
    }
   ],
   "source": [
    "game2_3cols.printSchema()"
   ]
  },
  {
   "cell_type": "code",
   "execution_count": 30,
   "metadata": {},
   "outputs": [
    {
     "name": "stdout",
     "output_type": "stream",
     "text": [
      "+-----------------+------+---------------+----------------+-------------------+\n",
      "|         steam_id|app_id|playtime_2weeks|playtime_forever|      dateretrieved|\n",
      "+-----------------+------+---------------+----------------+-------------------+\n",
      "|76561197960265730|    70|              1|             403|2014-08-14 14:04:45|\n",
      "|76561197960265731|   570|             25|           73072|2014-08-14 14:04:45|\n",
      "|76561197960265731|  8930|           1109|            1111|2014-08-14 14:04:45|\n",
      "|76561197960265731|239220|              1|             133|2014-08-14 14:04:45|\n",
      "|76561197960265733|    30|             42|              59|2014-08-14 14:04:45|\n",
      "+-----------------+------+---------------+----------------+-------------------+\n",
      "only showing top 5 rows\n",
      "\n"
     ]
    }
   ],
   "source": [
    "game2_5cols.show(5)"
   ]
  },
  {
   "cell_type": "code",
   "execution_count": 31,
   "metadata": {},
   "outputs": [
    {
     "name": "stdout",
     "output_type": "stream",
     "text": [
      "+-----------------+------+---------------+----------------+-------------------+\n",
      "|         steam_id|app_id|playtime_2weeks|playtime_forever|      dateretrieved|\n",
      "+-----------------+------+---------------+----------------+-------------------+\n",
      "|76561197960265729|    10|              0|               0|2014-08-14 14:04:18|\n",
      "|76561197960265729|    20|              0|               0|2014-08-14 14:04:18|\n",
      "|76561197960265729|    30|              0|               0|2014-08-14 14:04:18|\n",
      "|76561197960265729|    40|              0|               0|2014-08-14 14:04:18|\n",
      "|76561197960265729|    50|              0|               0|2014-08-14 14:04:18|\n",
      "+-----------------+------+---------------+----------------+-------------------+\n",
      "only showing top 5 rows\n",
      "\n"
     ]
    }
   ],
   "source": [
    "game2_3cols.show(5)"
   ]
  },
  {
   "cell_type": "code",
   "execution_count": 80,
   "metadata": {},
   "outputs": [
    {
     "name": "stdout",
     "output_type": "stream",
     "text": [
      "+-----------------+------+---------------+----------------+-------------------+\n",
      "|         steam_id|app_id|playtime_2weeks|playtime_forever|      dateretrieved|\n",
      "+-----------------+------+---------------+----------------+-------------------+\n",
      "|76561197960265729|205790|              0|               1|2014-08-14 14:04:18|\n",
      "|76561197960265730|    10|              0|             837|2014-08-14 14:04:45|\n",
      "|76561197960265730|    20|              0|              27|2014-08-14 14:04:45|\n",
      "|76561197960265730|    30|              0|               9|2014-08-14 14:04:45|\n",
      "|76561197960265730|    40|              0|               5|2014-08-14 14:04:45|\n",
      "|76561197960265730|    50|              0|               2|2014-08-14 14:04:45|\n",
      "|76561197960265730|    80|              0|               6|2014-08-14 14:04:45|\n",
      "|76561197960265730|   100|              0|              10|2014-08-14 14:04:45|\n",
      "|76561197960265730|   220|              0|              14|2014-08-14 14:04:45|\n",
      "|76561197960265730|   240|              0|               1|2014-08-14 14:04:45|\n",
      "|76561197960265730|   280|              0|              12|2014-08-14 14:04:45|\n",
      "|76561197960265730|   380|              0|               4|2014-08-14 14:04:45|\n",
      "|76561197960265730|   400|              0|              44|2014-08-14 14:04:45|\n",
      "|76561197960265730|   420|              0|               5|2014-08-14 14:04:45|\n",
      "|76561197960265730|   440|              0|            1422|2014-08-14 14:04:45|\n",
      "|76561197960265730|   550|              0|               4|2014-08-14 14:04:45|\n",
      "|76561197960265730|   570|              0|             144|2014-08-14 14:04:45|\n",
      "|76561197960265730|   620|              0|             113|2014-08-14 14:04:45|\n",
      "|76561197960265730|   730|              0|               9|2014-08-14 14:04:45|\n",
      "|76561197960265730|  8930|              0|              33|2014-08-14 14:04:45|\n",
      "+-----------------+------+---------------+----------------+-------------------+\n",
      "only showing top 20 rows\n",
      "\n"
     ]
    }
   ],
   "source": [
    "game2_3cols.filter(\"playtime_forever != 0\").show()"
   ]
  },
  {
   "cell_type": "code",
   "execution_count": 81,
   "metadata": {},
   "outputs": [
    {
     "data": {
      "text/plain": [
       "45250116"
      ]
     },
     "execution_count": 81,
     "metadata": {},
     "output_type": "execute_result"
    }
   ],
   "source": [
    "# No of players have playtime forever\n",
    "game2_3cols.filter(\"playtime_forever != 0\").count()"
   ]
  },
  {
   "cell_type": "code",
   "execution_count": 82,
   "metadata": {},
   "outputs": [
    {
     "data": {
      "text/plain": [
       "52910212"
      ]
     },
     "execution_count": 82,
     "metadata": {},
     "output_type": "execute_result"
    }
   ],
   "source": [
    "# No of players without playtime forever\n",
    "game2_3cols.filter(\"playtime_forever == 0\").count()"
   ]
  },
  {
   "cell_type": "code",
   "execution_count": 32,
   "metadata": {},
   "outputs": [],
   "source": [
    "# Merge gam2_3cols and game2_5cols\n",
    "game2_df = game2_3cols.union(game2_5cols)"
   ]
  },
  {
   "cell_type": "code",
   "execution_count": 84,
   "metadata": {},
   "outputs": [
    {
     "name": "stdout",
     "output_type": "stream",
     "text": [
      "+-----------------+------+---------------+----------------+-------------------+\n",
      "|         steam_id|app_id|playtime_2weeks|playtime_forever|      dateretrieved|\n",
      "+-----------------+------+---------------+----------------+-------------------+\n",
      "|76561197960265729|    10|              0|               0|2014-08-14 14:04:18|\n",
      "|76561197960265729|    20|              0|               0|2014-08-14 14:04:18|\n",
      "|76561197960265729|    30|              0|               0|2014-08-14 14:04:18|\n",
      "|76561197960265729|    40|              0|               0|2014-08-14 14:04:18|\n",
      "|76561197960265729|    50|              0|               0|2014-08-14 14:04:18|\n",
      "|76561197960265729|    60|              0|               0|2014-08-14 14:04:18|\n",
      "|76561197960265729|    70|              0|               0|2014-08-14 14:04:18|\n",
      "|76561197960265729|    80|              0|               0|2014-08-14 14:04:18|\n",
      "|76561197960265729|   100|              0|               0|2014-08-14 14:04:18|\n",
      "|76561197960265729|   130|              0|               0|2014-08-14 14:04:18|\n",
      "+-----------------+------+---------------+----------------+-------------------+\n",
      "only showing top 10 rows\n",
      "\n"
     ]
    }
   ],
   "source": [
    "game2_df.show(10)"
   ]
  },
  {
   "cell_type": "code",
   "execution_count": 85,
   "metadata": {},
   "outputs": [
    {
     "data": {
      "text/plain": [
       "100000000"
      ]
     },
     "execution_count": 85,
     "metadata": {},
     "output_type": "execute_result"
    }
   ],
   "source": [
    "# Check total observation to make sure we merge it correctly!\n",
    "game2_df.count()"
   ]
  },
  {
   "cell_type": "code",
   "execution_count": 86,
   "metadata": {},
   "outputs": [
    {
     "name": "stdout",
     "output_type": "stream",
     "text": [
      "+-----------------+------+---------------+----------------+-------------------+\n",
      "|         steam_id|app_id|playtime_2weeks|playtime_forever|      dateretrieved|\n",
      "+-----------------+------+---------------+----------------+-------------------+\n",
      "|76561197960265729|    10|              0|               0|2014-08-14 14:04:18|\n",
      "|76561197960265729|    20|              0|               0|2014-08-14 14:04:18|\n",
      "|76561197960265729|    30|              0|               0|2014-08-14 14:04:18|\n",
      "|76561197960265729|    40|              0|               0|2014-08-14 14:04:18|\n",
      "|76561197960265729|    50|              0|               0|2014-08-14 14:04:18|\n",
      "|76561197960265729|    60|              0|               0|2014-08-14 14:04:18|\n",
      "|76561197960265729|    70|              0|               0|2014-08-14 14:04:18|\n",
      "|76561197960265729|    80|              0|               0|2014-08-14 14:04:18|\n",
      "|76561197960265729|   100|              0|               0|2014-08-14 14:04:18|\n",
      "|76561197960265729|   130|              0|               0|2014-08-14 14:04:18|\n",
      "|76561197960265729|   220|              0|               0|2014-08-14 14:04:18|\n",
      "|76561197960265729|   240|              0|               0|2014-08-14 14:04:18|\n",
      "|76561197960265729|   280|              0|               0|2014-08-14 14:04:18|\n",
      "|76561197960265729|   300|              0|               0|2014-08-14 14:04:18|\n",
      "|76561197960265729|   320|              0|               0|2014-08-14 14:04:18|\n",
      "|76561197960265729|   340|              0|               0|2014-08-14 14:04:18|\n",
      "|76561197960265729|   360|              0|               0|2014-08-14 14:04:18|\n",
      "|76561197960265729|   380|              0|               0|2014-08-14 14:04:18|\n",
      "|76561197960265729|   400|              0|               0|2014-08-14 14:04:18|\n",
      "|76561197960265729|   420|              0|               0|2014-08-14 14:04:18|\n",
      "+-----------------+------+---------------+----------------+-------------------+\n",
      "only showing top 20 rows\n",
      "\n"
     ]
    }
   ],
   "source": [
    "game2_df.filter(\"steam_id == 76561197960265729\").show()"
   ]
  },
  {
   "cell_type": "code",
   "execution_count": 34,
   "metadata": {},
   "outputs": [],
   "source": [
    "# Save game2_df\n",
    "game2_df.write.csv('/user/tamng/jwht/CleanData/game2_df.csv', header = True)"
   ]
  },
  {
   "cell_type": "code",
   "execution_count": 91,
   "metadata": {},
   "outputs": [
    {
     "name": "stdout",
     "output_type": "stream",
     "text": [
      "WARNING: log4j.properties is not found. HADOOP_CONF_DIR may be incomplete.\n",
      "Java HotSpot(TM) 64-Bit Server VM warning: ignoring option MaxPermSize=512M; support was removed in 8.0\n",
      "Found 7 items\n",
      "-rwxrwxrwx   3 tamng tamng 5116243481 2020-05-09 22:16 /user/tamng/jwht/SteamData/Games2_100milrows.csv\n",
      "-rwxrwxrwx   3 tamng tamng   79545914 2020-05-09 22:16 /user/tamng/jwht/SteamData/app_id_info_join.csv\n",
      "-rwxrwxrwx   3 tamng tamng 1045968424 2020-05-09 22:17 /user/tamng/jwht/SteamData/friends_subset.csv\n",
      "drwxr-xr-x   - tamng tamng          0 2020-05-16 21:28 /user/tamng/jwht/SteamData/game2_df.csv\n",
      "-rwxrwxrwx   3 tamng tamng   83366366 2020-05-09 22:16 /user/tamng/jwht/SteamData/groups_subset.csv\n",
      "-rwxrwxrwx   3 tamng tamng     568119 2020-05-09 22:16 /user/tamng/jwht/SteamData/metacritic_games.csv\n",
      "-rwxrwxrwx   3 tamng tamng  899281516 2020-05-09 22:16 /user/tamng/jwht/SteamData/player_summaries_subset.csv\n"
     ]
    }
   ],
   "source": [
    "!hdfs dfs -ls /user/tamng/jwht/SteamData"
   ]
  },
  {
   "cell_type": "code",
   "execution_count": 182,
   "metadata": {},
   "outputs": [
    {
     "name": "stdout",
     "output_type": "stream",
     "text": [
      "WARNING: log4j.properties is not found. HADOOP_CONF_DIR may be incomplete.\n",
      "Java HotSpot(TM) 64-Bit Server VM warning: ignoring option MaxPermSize=512M; support was removed in 8.0\n",
      "Found 4 items\n",
      "drwxrwxrwx   - tamng tamng          0 2020-05-16 23:12 /user/tamng/jwht/CleanData/friends.csv\n",
      "drwxrwxrwx   - tamng tamng          0 2020-05-16 21:28 /user/tamng/jwht/CleanData/game2_df.csv\n",
      "drwxrwxrwx   - tamng tamng          0 2020-05-16 22:58 /user/tamng/jwht/CleanData/game_app_info.csv\n",
      "drwxrwxrwx   - tamng tamng          0 2020-05-16 23:15 /user/tamng/jwht/CleanData/groups.csv\n"
     ]
    }
   ],
   "source": [
    "!hdfs dfs -ls /user/tamng/jwht/CleanData"
   ]
  },
  {
   "cell_type": "code",
   "execution_count": 191,
   "metadata": {},
   "outputs": [
    {
     "name": "stdout",
     "output_type": "stream",
     "text": [
      "+--------------------------------------------------------+\n",
      "|count(CASE WHEN (playtime_2weeks IS NULL) THEN true END)|\n",
      "+--------------------------------------------------------+\n",
      "|                                                       0|\n",
      "+--------------------------------------------------------+\n",
      "\n"
     ]
    }
   ],
   "source": [
    "game2_df.select([count(when(col('playtime_2weeks').isNull(), True))]).show()"
   ]
  },
  {
   "cell_type": "markdown",
   "metadata": {},
   "source": [
    "___\n",
    "### 2nd dataset: app_id_info.csv\n",
    "\n",
    "__Problem: More columns than expected: 17 cols vs. 8 cols__\n",
    "\n",
    "|No.|Column | Type | Description | Distinct_value| Notes |\n",
    "|--|--|--|--|--|--|\n",
    "|1|steamid|XX| The steam ID of the user in question|\n",
    "|2|Title|XX|The Title of the app, as it appears to users|\n",
    "|3|Type|XX| The type of the \"app\". Possible values include: \"demo,\" \"dlc,\" \"game,\" \"hardware,\" \"mod,\" and \"video.\" Game is the most common|\n",
    "|4|Price|XX|The current price of the \"app\" on the Steam storefront, in US dollars. Free items have a price of 0.|\n",
    "|5|Release_Date|XX|The date the \"app\" was made available via the Steam storefront. Note that apps released elsewhere originally and later published through steam carry the date of the Steam publish|\n",
    "|6|Rating|XX|The rating of the \"app\" on Metacritic. Set to -1 if not applicable.|70\n",
    "|7|Required_Age|XX|The MSRB or PEGI-assigned age requirement for viewing this game in the Steam storefront, and, by extension, clicking the button to purchase it.| 9 |\n",
    "|8|Is_Multiplayer|XX|A value of either 0 or 1 indicating whether or not an \"app\" contains multiplayer content. Self-reported by developers.|2|\n",
    "|9|achieveName|XX|The name of the achievement as it appears to players. As an internal value assigned by developers, its descriptiveness of the achievement varies.|130685| Double check name|\n",
    "|10|achievePercent|XX|The percentage of players who have finished this achievement out of all total players who own this game.|X| |\n",
    "|11|gamesDeveloper|XX|A developer of the app in question. Note that some apps have multiple developers and thus numerous distinct rows with the same appid are possible.|3624||\n",
    "|12|gamesGenre|XX|A genre of the app in question. Note that most apps have multiple genres and thus numerous distinct rows with the same appid are possible.|20| |\n",
    "|13|gamesPublisher|XX|A publisher of the app in question. Note that some apps have multiple publishers and thus numerous distinct rows with the same appid are possible.|2659| |\n",
    "\n",
    "\n"
   ]
  },
  {
   "cell_type": "code",
   "execution_count": 4,
   "metadata": {},
   "outputs": [],
   "source": [
    "# Load app_id_info_join\n",
    "app_id_info = spark.read.csv(\"/user/tamng/jwht/SteamData/app_id_info_join.csv\", inferSchema=True, header=False)"
   ]
  },
  {
   "cell_type": "code",
   "execution_count": 5,
   "metadata": {},
   "outputs": [
    {
     "data": {
      "text/plain": [
       "2"
      ]
     },
     "execution_count": 5,
     "metadata": {},
     "output_type": "execute_result"
    }
   ],
   "source": [
    "app_id_info.rdd.getNumPartitions()"
   ]
  },
  {
   "cell_type": "code",
   "execution_count": 98,
   "metadata": {},
   "outputs": [
    {
     "data": {
      "text/plain": [
       "469811"
      ]
     },
     "execution_count": 98,
     "metadata": {},
     "output_type": "execute_result"
    }
   ],
   "source": [
    "# Number of observations\n",
    "app_id_info.count()"
   ]
  },
  {
   "cell_type": "code",
   "execution_count": 99,
   "metadata": {},
   "outputs": [
    {
     "name": "stdout",
     "output_type": "stream",
     "text": [
      "root\n",
      " |-- _c0: integer (nullable = true)\n",
      " |-- _c1: string (nullable = true)\n",
      " |-- _c2: string (nullable = true)\n",
      " |-- _c3: double (nullable = true)\n",
      " |-- _c4: timestamp (nullable = true)\n",
      " |-- _c5: integer (nullable = true)\n",
      " |-- _c6: integer (nullable = true)\n",
      " |-- _c7: integer (nullable = true)\n",
      " |-- _c8: integer (nullable = true)\n",
      " |-- _c9: string (nullable = true)\n",
      " |-- _c10: double (nullable = true)\n",
      " |-- _c11: integer (nullable = true)\n",
      " |-- _c12: string (nullable = true)\n",
      " |-- _c13: integer (nullable = true)\n",
      " |-- _c14: string (nullable = true)\n",
      " |-- _c15: integer (nullable = true)\n",
      " |-- _c16: string (nullable = true)\n",
      "\n"
     ]
    }
   ],
   "source": [
    "app_id_info.printSchema()"
   ]
  },
  {
   "cell_type": "code",
   "execution_count": 6,
   "metadata": {},
   "outputs": [
    {
     "name": "stdout",
     "output_type": "stream",
     "text": [
      "+---+--------------------+----+----+-------------------+---+---+---+---+----+---------+----+----------------+----+------+----+-----+\n",
      "|_c0|                 _c1| _c2| _c3|                _c4|_c5|_c6|_c7|_c8| _c9|     _c10|_c11|            _c12|_c13|  _c14|_c15| _c16|\n",
      "+---+--------------------+----+----+-------------------+---+---+---+---+----+---------+----+----------------+----+------+----+-----+\n",
      "| 50|Half-Life: Opposi...|game|4.99|1999-11-01 00:00:00| -1|  0|  1| 50|ach0|0.0910381|  50|Gearbox Software|  50|Action|  50|Valve|\n",
      "| 50|Half-Life: Opposi...|game|4.99|1999-11-01 00:00:00| -1|  0|  1| 50|ach1|0.0883079|  50|Gearbox Software|  50|Action|  50|Valve|\n",
      "| 50|Half-Life: Opposi...|game|4.99|1999-11-01 00:00:00| -1|  0|  1| 50|ach2|0.0884962|  50|Gearbox Software|  50|Action|  50|Valve|\n",
      "+---+--------------------+----+----+-------------------+---+---+---+---+----+---------+----+----------------+----+------+----+-----+\n",
      "only showing top 3 rows\n",
      "\n"
     ]
    }
   ],
   "source": [
    "app_id_info.show(3, truncate = True)"
   ]
  },
  {
   "cell_type": "code",
   "execution_count": 5,
   "metadata": {},
   "outputs": [],
   "source": [
    "# Drop repeating cols\n",
    "app_id_info = app_id_info.drop(\"_c8\",\"_c11\",\"_c13\",\"_c15\")"
   ]
  },
  {
   "cell_type": "code",
   "execution_count": 6,
   "metadata": {},
   "outputs": [
    {
     "name": "stdout",
     "output_type": "stream",
     "text": [
      "+---+--------------------+----+----+-------------------+---+---+---+----+---------+----------------+------+-----+\n",
      "|_c0|                 _c1| _c2| _c3|                _c4|_c5|_c6|_c7| _c9|     _c10|            _c12|  _c14| _c16|\n",
      "+---+--------------------+----+----+-------------------+---+---+---+----+---------+----------------+------+-----+\n",
      "| 50|Half-Life: Opposi...|game|4.99|1999-11-01 00:00:00| -1|  0|  1|ach0|0.0910381|Gearbox Software|Action|Valve|\n",
      "| 50|Half-Life: Opposi...|game|4.99|1999-11-01 00:00:00| -1|  0|  1|ach1|0.0883079|Gearbox Software|Action|Valve|\n",
      "| 50|Half-Life: Opposi...|game|4.99|1999-11-01 00:00:00| -1|  0|  1|ach2|0.0884962|Gearbox Software|Action|Valve|\n",
      "+---+--------------------+----+----+-------------------+---+---+---+----+---------+----------------+------+-----+\n",
      "only showing top 3 rows\n",
      "\n"
     ]
    }
   ],
   "source": [
    "app_id_info.show(3, truncate = True)"
   ]
  },
  {
   "cell_type": "code",
   "execution_count": 7,
   "metadata": {},
   "outputs": [
    {
     "name": "stdout",
     "output_type": "stream",
     "text": [
      "root\n",
      " |-- app_id: integer (nullable = true)\n",
      " |-- title: string (nullable = true)\n",
      " |-- type: string (nullable = true)\n",
      " |-- price: double (nullable = true)\n",
      " |-- releasedDate: timestamp (nullable = true)\n",
      " |-- rating: integer (nullable = true)\n",
      " |-- requiredAge: integer (nullable = true)\n",
      " |-- isMultiplayer: integer (nullable = true)\n",
      " |-- achieveName: string (nullable = true)\n",
      " |-- achievePercent: double (nullable = true)\n",
      " |-- gamesDeveloper: string (nullable = true)\n",
      " |-- gamesGenre: string (nullable = true)\n",
      " |-- gamesPublisher: string (nullable = true)\n",
      "\n"
     ]
    }
   ],
   "source": [
    "# Rename the columns\n",
    "oldColumns = app_id_info.schema.names\n",
    "newColumns = [\"app_id\",\"title\",\"type\",\"price\", \"releasedDate\", \"rating\", \"requiredAge\", \"isMultiplayer\", \n",
    "              \"achieveName\", \"achievePercent\", \"gamesDeveloper\", \"gamesGenre\", \"gamesPublisher\"]\n",
    "  \n",
    "app_id_info = reduce(lambda app_id_info, idx: app_id_info.withColumnRenamed(oldColumns[idx], newColumns[idx]), range(len(oldColumns)), app_id_info)\n",
    "app_id_info.printSchema()"
   ]
  },
  {
   "cell_type": "code",
   "execution_count": 8,
   "metadata": {},
   "outputs": [],
   "source": [
    "# Save game2_df\n",
    "app_id_info.write.csv('/user/tamng/jwht/CleanData/app_info.csv', header = True)"
   ]
  },
  {
   "cell_type": "code",
   "execution_count": null,
   "metadata": {},
   "outputs": [],
   "source": []
  },
  {
   "cell_type": "code",
   "execution_count": 146,
   "metadata": {},
   "outputs": [
    {
     "data": {
      "text/plain": [
       "7645637756"
      ]
     },
     "execution_count": 146,
     "metadata": {},
     "output_type": "execute_result"
    }
   ],
   "source": [
    "# Total rows after join the 2 dataframes: 7.6 bil rows\n",
    "game_app_info.count()"
   ]
  },
  {
   "cell_type": "markdown",
   "metadata": {},
   "source": [
    "___\n",
    "### 3. friends.csv\n",
    "\n",
    "|No.|Column | Type | Description\n",
    "|--|--|--|--|\n",
    "|1|steam_id_a|str| The Steam ID of the user who's friend list was queried|\n",
    "|2|steam_id_b|str| The Steam ID of the a user who is a friend of the user referenced by steamid_a|\n",
    "|3|relationship|string| The type of relationship represented by this entry. Currently the only value used is \"friend\"|\n",
    "|4|friend_since|timestamp| The date and time when the users in this entry became friends. Note that this field was added in 2009 and thus all frienships existing previous this date are recorded with the default unix timestamp (1970)|\n",
    "|5|dateretrieved|timestamp| Timestamp when this friend list data was requested from the API|\n",
    "\n",
    "****\n",
    "\n",
    "_Step need to be done with this table:_\n",
    "- Drop _c5\n",
    "- Change column name\n",
    "- Double check column type"
   ]
  },
  {
   "cell_type": "code",
   "execution_count": 9,
   "metadata": {},
   "outputs": [],
   "source": [
    "# Load dataset\n",
    "friends = spark.read.csv('/user/tamng/jwht/CleanData/friends.csv',\\\n",
    "                             inferSchema = True, header = True)"
   ]
  },
  {
   "cell_type": "code",
   "execution_count": 10,
   "metadata": {},
   "outputs": [
    {
     "name": "stdout",
     "output_type": "stream",
     "text": [
      "root\n",
      " |-- _c0: long (nullable = true)\n",
      " |-- _c1: long (nullable = true)\n",
      " |-- _c2: string (nullable = true)\n",
      " |-- _c3: timestamp (nullable = true)\n",
      " |-- _c4: timestamp (nullable = true)\n",
      " |-- _c5: string (nullable = true)\n",
      "\n"
     ]
    }
   ],
   "source": [
    "friends.printSchema()"
   ]
  },
  {
   "cell_type": "code",
   "execution_count": 155,
   "metadata": {},
   "outputs": [
    {
     "data": {
      "text/plain": [
       "[Row(_c0=76561197960265744, _c1=76561197960265731, _c2='friend', _c3=datetime.datetime(1969, 12, 31, 17, 0), _c4=datetime.datetime(2013, 5, 5, 1, 52, 30), _c5='N'),\n",
       " Row(_c0=76561197960265744, _c1=76561197960265733, _c2='friend', _c3=datetime.datetime(1969, 12, 31, 17, 0), _c4=datetime.datetime(2013, 5, 6, 15, 14, 15), _c5='N'),\n",
       " Row(_c0=76561197960265744, _c1=76561197960265738, _c2='friend', _c3=datetime.datetime(1969, 12, 31, 17, 0), _c4=datetime.datetime(2013, 5, 6, 15, 56, 24), _c5='N')]"
      ]
     },
     "execution_count": 155,
     "metadata": {},
     "output_type": "execute_result"
    }
   ],
   "source": [
    "friends.head(3)"
   ]
  },
  {
   "cell_type": "code",
   "execution_count": 11,
   "metadata": {},
   "outputs": [],
   "source": [
    "# Drop col _c5\n",
    "friends = friends.drop(\"_c5\")"
   ]
  },
  {
   "cell_type": "code",
   "execution_count": 12,
   "metadata": {},
   "outputs": [
    {
     "name": "stdout",
     "output_type": "stream",
     "text": [
      "root\n",
      " |-- steam_id_a: long (nullable = true)\n",
      " |-- steam_id_b: long (nullable = true)\n",
      " |-- relationship: string (nullable = true)\n",
      " |-- friend_since: timestamp (nullable = true)\n",
      " |-- dateretrieved: timestamp (nullable = true)\n",
      "\n"
     ]
    }
   ],
   "source": [
    "# Rename the header columns\n",
    "newColumns = [\"steam_id_a\", \"steam_id_b\",\"relationship\",\"friend_since\", \"dateretrieved\"]\n",
    "friends = rename_col(friends, newColumns)\n",
    "friends.printSchema()"
   ]
  },
  {
   "cell_type": "code",
   "execution_count": 13,
   "metadata": {},
   "outputs": [
    {
     "name": "stdout",
     "output_type": "stream",
     "text": [
      "+-----------------+-----------------+------------+-------------------+-------------------+\n",
      "|       steam_id_a|       steam_id_b|relationship|       friend_since|      dateretrieved|\n",
      "+-----------------+-----------------+------------+-------------------+-------------------+\n",
      "|76561197960265744|76561197960265731|      friend|1969-12-31 17:00:00|2013-05-05 01:52:30|\n",
      "|76561197960265744|76561197960265733|      friend|1969-12-31 17:00:00|2013-05-06 15:14:15|\n",
      "|76561197960265744|76561197960265738|      friend|1969-12-31 17:00:00|2013-05-06 15:56:24|\n",
      "+-----------------+-----------------+------------+-------------------+-------------------+\n",
      "only showing top 3 rows\n",
      "\n"
     ]
    }
   ],
   "source": [
    "friends_subset.show(3)"
   ]
  },
  {
   "cell_type": "code",
   "execution_count": 14,
   "metadata": {},
   "outputs": [],
   "source": [
    "# Save friends\n",
    "friends_subset.write.csv('/user/tamng/jwht/CleanData/friends.csv', header= True)"
   ]
  },
  {
   "cell_type": "code",
   "execution_count": 192,
   "metadata": {},
   "outputs": [
    {
     "name": "stdout",
     "output_type": "stream",
     "text": [
      "WARNING: log4j.properties is not found. HADOOP_CONF_DIR may be incomplete.\n",
      "Java HotSpot(TM) 64-Bit Server VM warning: ignoring option MaxPermSize=512M; support was removed in 8.0\n",
      "Found 4 items\n",
      "drwxrwxrwx   - tamng tamng          0 2020-05-16 23:12 /user/tamng/jwht/CleanData/friends.csv\n",
      "drwxrwxrwx   - tamng tamng          0 2020-05-16 21:28 /user/tamng/jwht/CleanData/game2_df.csv\n",
      "drwxrwxrwx   - tamng tamng          0 2020-05-16 22:58 /user/tamng/jwht/CleanData/game_app_info.csv\n",
      "drwxrwxrwx   - tamng tamng          0 2020-05-16 23:15 /user/tamng/jwht/CleanData/groups.csv\n"
     ]
    }
   ],
   "source": [
    "!hdfs dfs -ls /user/tamng/jwht/CleanData"
   ]
  },
  {
   "cell_type": "markdown",
   "metadata": {},
   "source": [
    "---\n",
    "### 4. groups.csv\n",
    "\n",
    "|No.|Column | Type | Description | Distinct_value|\n",
    "|--|--|--|--|--|\n",
    "|1|steam_id|str| The developer of the app in question|\n",
    "|2|group_id|| A group ID for a group to which te user referenced by steamid belongs. Users may belong to more than one group|130748|\n",
    "|3|dateretrieved|timestamp| Timestamp of the time when this game data was requested from the API|\n",
    "\n",
    "****\n",
    "\n",
    "_Step need to be done with this table:_\n",
    "- Change column name\n",
    "- Double check column type\n"
   ]
  },
  {
   "cell_type": "code",
   "execution_count": 15,
   "metadata": {},
   "outputs": [],
   "source": [
    "groups = spark.read.csv('/user/tamng/jwht/SteamData/steamData_new/Groups.csv',\\\n",
    "                             inferSchema = True, header = False)"
   ]
  },
  {
   "cell_type": "code",
   "execution_count": 16,
   "metadata": {},
   "outputs": [
    {
     "name": "stdout",
     "output_type": "stream",
     "text": [
      "root\n",
      " |-- _c0: long (nullable = true)\n",
      " |-- _c1: integer (nullable = true)\n",
      " |-- _c2: timestamp (nullable = true)\n",
      "\n"
     ]
    }
   ],
   "source": [
    "groups.printSchema()"
   ]
  },
  {
   "cell_type": "code",
   "execution_count": 164,
   "metadata": {},
   "outputs": [
    {
     "data": {
      "text/plain": [
       "[Row(_c0=76561197960265744, _c1=24, _c2=datetime.datetime(2013, 5, 6, 15, 56, 24)),\n",
       " Row(_c0=76561197960265744, _c1=206, _c2=datetime.datetime(2013, 5, 6, 15, 56, 24)),\n",
       " Row(_c0=76561197960265744, _c1=8484, _c2=datetime.datetime(2013, 5, 6, 15, 56, 24))]"
      ]
     },
     "execution_count": 164,
     "metadata": {},
     "output_type": "execute_result"
    }
   ],
   "source": [
    "groups_subset.head(3)"
   ]
  },
  {
   "cell_type": "code",
   "execution_count": 17,
   "metadata": {},
   "outputs": [
    {
     "name": "stdout",
     "output_type": "stream",
     "text": [
      "root\n",
      " |-- steam_id: long (nullable = true)\n",
      " |-- group_id: integer (nullable = true)\n",
      " |-- dateretrieved: timestamp (nullable = true)\n",
      "\n"
     ]
    }
   ],
   "source": [
    "# Rename the header columns\n",
    "newColumns = ['steam_id', 'group_id', 'dateretrieved']\n",
    "groups = rename_col(groups, newColumns)"
   ]
  },
  {
   "cell_type": "code",
   "execution_count": 18,
   "metadata": {},
   "outputs": [
    {
     "name": "stdout",
     "output_type": "stream",
     "text": [
      "+-----------------+--------+-------------------+\n",
      "|         steam_id|group_id|      dateretrieved|\n",
      "+-----------------+--------+-------------------+\n",
      "|76561197960265744|      24|2013-05-06 15:56:24|\n",
      "|76561197960265744|     206|2013-05-06 15:56:24|\n",
      "|76561197960265744|    8484|2013-05-06 15:56:24|\n",
      "+-----------------+--------+-------------------+\n",
      "only showing top 3 rows\n",
      "\n"
     ]
    }
   ],
   "source": [
    "groups.show(3)"
   ]
  },
  {
   "cell_type": "code",
   "execution_count": 19,
   "metadata": {},
   "outputs": [],
   "source": [
    "# Save groups\n",
    "groups.write.csv('/user/tamng/jwht/CleanData/groups.csv', header = True)"
   ]
  },
  {
   "cell_type": "code",
   "execution_count": 169,
   "metadata": {},
   "outputs": [
    {
     "name": "stdout",
     "output_type": "stream",
     "text": [
      "WARNING: log4j.properties is not found. HADOOP_CONF_DIR may be incomplete.\n",
      "Java HotSpot(TM) 64-Bit Server VM warning: ignoring option MaxPermSize=512M; support was removed in 8.0\n",
      "Found 4 items\n",
      "drwxrwxrwx   - tamng tamng          0 2020-05-16 23:12 /user/tamng/jwht/CleanData/friends.csv\n",
      "drwxrwxrwx   - tamng tamng          0 2020-05-16 21:28 /user/tamng/jwht/CleanData/game2_df.csv\n",
      "drwxrwxrwx   - tamng tamng          0 2020-05-16 22:58 /user/tamng/jwht/CleanData/game_app_info.csv\n",
      "drwxrwxrwx   - tamng tamng          0 2020-05-16 23:15 /user/tamng/jwht/CleanData/groups.csv\n"
     ]
    }
   ],
   "source": [
    "!hdfs dfs -ls /user/tamng/jwht/CleanData"
   ]
  },
  {
   "cell_type": "markdown",
   "metadata": {},
   "source": [
    "___\n",
    "\n",
    "### 5. player_summaries_subset.csv\n",
    "    \n",
    "|No.|Column | Type | Description\n",
    "|--|--|--|--|\n",
    "|1|steam_id|XX| The steam ID of the user in question|\n",
    "|2|lastlogoff|XX| Timestamp of the time when this game data was requested from the API|\n",
    "|3|primaryclan_id|XX| The groupid (Groups::groupid) of the group that the user has designated as their primary group|\n",
    "|4|timecreated|XX| Timestamp of the time when the account was created|\n",
    "|5|game_id|XX| If the user was in-game at the time of the API request, this value specifies which game they were running at the time|\n",
    "|6|gameserverip|XX| If the user was in-game at the time of the request, and playing a game using Steam matchmaking, this value specifies the IP of the server they were connected to. Is otherwise set to \"0.0.0.0:0\"|\n",
    "|7|loccountrycode|XX| ISO-3166 code for the country in which the user resides. Self-reported.|\n",
    "|8|locstatecode|XX| State where the user resides. Self-reported.|\n",
    "|9|loccity_id|XX| Internal Steam ID corresponding to the city where the user resides. Self-reported.|\n",
    "|10|dateretrieved|XX| Timestamp of the time when this game data was requested from the API|\n",
    "\n",
    "\n",
    "Work on this later"
   ]
  },
  {
   "cell_type": "code",
   "execution_count": 33,
   "metadata": {},
   "outputs": [],
   "source": [
    "# Load 3rd dataset\n",
    "player_summaries = spark.read.csv(\"/user/tamng/jwht/SteamData/player_summaries_subset.csv\", inferSchema=True, header=False)"
   ]
  },
  {
   "cell_type": "code",
   "execution_count": 34,
   "metadata": {},
   "outputs": [
    {
     "data": {
      "text/plain": [
       "1636741"
      ]
     },
     "execution_count": 34,
     "metadata": {},
     "output_type": "execute_result"
    }
   ],
   "source": [
    "player_summaries.count()"
   ]
  },
  {
   "cell_type": "code",
   "execution_count": 35,
   "metadata": {},
   "outputs": [
    {
     "data": {
      "text/plain": [
       "[('_c0', 'bigint'),\n",
       " ('_c1', 'string'),\n",
       " ('_c2', 'string'),\n",
       " ('_c3', 'string'),\n",
       " ('_c4', 'string'),\n",
       " ('_c5', 'string'),\n",
       " ('_c6', 'string'),\n",
       " ('_c7', 'string'),\n",
       " ('_c8', 'string'),\n",
       " ('_c9', 'string'),\n",
       " ('_c10', 'string'),\n",
       " ('_c11', 'string'),\n",
       " ('_c12', 'string'),\n",
       " ('_c13', 'string'),\n",
       " ('_c14', 'string'),\n",
       " ('_c15', 'string'),\n",
       " ('_c16', 'string'),\n",
       " ('_c17', 'string'),\n",
       " ('_c18', 'string'),\n",
       " ('_c19', 'string')]"
      ]
     },
     "execution_count": 35,
     "metadata": {},
     "output_type": "execute_result"
    }
   ],
   "source": [
    "player_summaries.dtypes"
   ]
  },
  {
   "cell_type": "code",
   "execution_count": 36,
   "metadata": {},
   "outputs": [
    {
     "data": {
      "text/plain": [
       "[Row(_c0=76561197960265744, _c1='ChrisB', _c2='http://steamcommunity.com/id/chrisb/', _c3='http://media.steampowered.com/steamcommunity/public/images/avatars/ff/ffa4cbf15ebf615e4a3e865455be1cbab714cfa8.jpg', _c4='http://media.steampowered.com/steamcommunity/public/images/avatars/ff/ffa4cbf15ebf615e4a3e865455be1cbab714cfa8_medium.jpg', _c5='http://media.steampowered.com/steamcommunity/public/images/avatars/ff/ffa4cbf15ebf615e4a3e865455be1cbab714cfa8_full.jpg', _c6='1', _c7='3', _c8='1', _c9='2013-02-13 20:00:35', _c10='1', _c11='Chris Bokitch', _c12='103582791429529892', _c13='2003-09-10 16:50:33', _c14='\"N,\"N', _c15='\"N,\"N', _c16='CA', _c17='BC', _c18='4832', _c19='2013-02-28 14:34:05'),\n",
       " Row(_c0=76561197960265744, _c1='ChrisB', _c2='http://steamcommunity.com/id/chrisb/', _c3='http://media.steampowered.com/steamcommunity/public/images/avatars/ff/ffa4cbf15ebf615e4a3e865455be1cbab714cfa8.jpg', _c4='http://media.steampowered.com/steamcommunity/public/images/avatars/ff/ffa4cbf15ebf615e4a3e865455be1cbab714cfa8_medium.jpg', _c5='http://media.steampowered.com/steamcommunity/public/images/avatars/ff/ffa4cbf15ebf615e4a3e865455be1cbab714cfa8_full.jpg', _c6='1', _c7='3', _c8='1', _c9='2013-02-13 20:00:35', _c10='1', _c11='Chris Bokitch', _c12='103582791429529892', _c13='2003-09-10 16:50:33', _c14='\"N,\"N', _c15='\"N,\"N', _c16='CA', _c17='BC', _c18='4832', _c19='2013-02-28 14:34:05')]"
      ]
     },
     "execution_count": 36,
     "metadata": {},
     "output_type": "execute_result"
    }
   ],
   "source": [
    "player_summaries.head(2)"
   ]
  },
  {
   "cell_type": "code",
   "execution_count": 37,
   "metadata": {
    "scrolled": true
   },
   "outputs": [
    {
     "name": "stdout",
     "output_type": "stream",
     "text": [
      "+-----------------+------+--------------------+--------------------+--------------------+--------------------+---+---+---+-------------------+----+-------------+------------------+-------------------+-----+-----+----+----+----+-------------------+\n",
      "|              _c0|   _c1|                 _c2|                 _c3|                 _c4|                 _c5|_c6|_c7|_c8|                _c9|_c10|         _c11|              _c12|               _c13| _c14| _c15|_c16|_c17|_c18|               _c19|\n",
      "+-----------------+------+--------------------+--------------------+--------------------+--------------------+---+---+---+-------------------+----+-------------+------------------+-------------------+-----+-----+----+----+----+-------------------+\n",
      "|76561197960265744|ChrisB|http://steamcommu...|http://media.stea...|http://media.stea...|http://media.stea...|  1|  3|  1|2013-02-13 20:00:35|   1|Chris Bokitch|103582791429529892|2003-09-10 16:50:33|\"N,\"N|\"N,\"N|  CA|  BC|4832|2013-02-28 14:34:05|\n",
      "|76561197960265744|ChrisB|http://steamcommu...|http://media.stea...|http://media.stea...|http://media.stea...|  1|  3|  1|2013-02-13 20:00:35|   1|Chris Bokitch|103582791429529892|2003-09-10 16:50:33|\"N,\"N|\"N,\"N|  CA|  BC|4832|2013-02-28 14:34:05|\n",
      "|76561197960265744|ChrisB|http://steamcommu...|http://media.stea...|http://media.stea...|http://media.stea...|  1|  3|  1|2013-02-13 20:00:35|   1|Chris Bokitch|103582791429529892|2003-09-10 16:50:33|\"N,\"N|\"N,\"N|  CA|  BC|4832|2013-02-28 14:34:05|\n",
      "|76561197960265744|ChrisB|http://steamcommu...|http://media.stea...|http://media.stea...|http://media.stea...|  1|  3|  1|2013-02-13 20:00:35|   1|Chris Bokitch|103582791429529892|2003-09-10 16:50:33|\"N,\"N|\"N,\"N|  CA|  BC|4832|2013-02-28 14:34:05|\n",
      "|76561197960265744|ChrisB|http://steamcommu...|http://media.stea...|http://media.stea...|http://media.stea...|  1|  3|  1|2013-02-13 20:00:35|   1|Chris Bokitch|103582791429529892|2003-09-10 16:50:33|\"N,\"N|\"N,\"N|  CA|  BC|4832|2013-02-28 14:34:05|\n",
      "|76561197960265744|ChrisB|http://steamcommu...|http://media.stea...|http://media.stea...|http://media.stea...|  1|  3|  1|2013-02-13 20:00:35|   1|Chris Bokitch|103582791429529892|2003-09-10 16:50:33|\"N,\"N|\"N,\"N|  CA|  BC|4832|2013-02-28 14:34:05|\n",
      "|76561197960265744|ChrisB|http://steamcommu...|http://media.stea...|http://media.stea...|http://media.stea...|  1|  3|  1|2013-02-13 20:00:35|   1|Chris Bokitch|103582791429529892|2003-09-10 16:50:33|\"N,\"N|\"N,\"N|  CA|  BC|4832|2013-02-28 14:34:05|\n",
      "|76561197960265744|ChrisB|http://steamcommu...|http://media.stea...|http://media.stea...|http://media.stea...|  1|  3|  1|2013-02-13 20:00:35|   1|Chris Bokitch|103582791429529892|2003-09-10 16:50:33|\"N,\"N|\"N,\"N|  CA|  BC|4832|2013-02-28 14:34:05|\n",
      "|76561197960265744|ChrisB|http://steamcommu...|http://media.stea...|http://media.stea...|http://media.stea...|  1|  3|  1|2013-02-13 20:00:35|   1|Chris Bokitch|103582791429529892|2003-09-10 16:50:33|\"N,\"N|\"N,\"N|  CA|  BC|4832|2013-02-28 14:34:05|\n",
      "|76561197960265744|ChrisB|http://steamcommu...|http://media.stea...|http://media.stea...|http://media.stea...|  1|  3|  1|2013-02-13 20:00:35|   1|Chris Bokitch|103582791429529892|2003-09-10 16:50:33|\"N,\"N|\"N,\"N|  CA|  BC|4832|2013-02-28 14:34:05|\n",
      "+-----------------+------+--------------------+--------------------+--------------------+--------------------+---+---+---+-------------------+----+-------------+------------------+-------------------+-----+-----+----+----+----+-------------------+\n",
      "only showing top 10 rows\n",
      "\n"
     ]
    }
   ],
   "source": [
    "player_summaries.show(10)"
   ]
  },
  {
   "cell_type": "code",
   "execution_count": 38,
   "metadata": {},
   "outputs": [
    {
     "data": {
      "text/plain": [
       "371185"
      ]
     },
     "execution_count": 38,
     "metadata": {},
     "output_type": "execute_result"
    }
   ],
   "source": [
    "# Count distinct number of steam_id in players\n",
    "player_summaries.select('_c0').distinct().count()"
   ]
  },
  {
   "cell_type": "code",
   "execution_count": 39,
   "metadata": {},
   "outputs": [],
   "source": [
    "# Collect list of distinct steam_id from player data\n",
    "steamid_player_list = player_summaries.select('_c0').distinct().collect()\n",
    "\n",
    "# Turn the list to array\n",
    "steamid_player_array = [int(row._c0) for row in steamid_player_list]"
   ]
  },
  {
   "cell_type": "code",
   "execution_count": 40,
   "metadata": {},
   "outputs": [
    {
     "name": "stdout",
     "output_type": "stream",
     "text": [
      "+-----------------+--------------+--------------------+--------------------+--------------------+--------------------+---+---+--------------------+-------------------+------------------+-------------------+-------------------+-----+--------------------+--------------------+--------------------+----+----+----+\n",
      "|              _c0|           _c1|                 _c2|                 _c3|                 _c4|                 _c5|_c6|_c7|                 _c8|                _c9|              _c10|               _c11|               _c12| _c13|                _c14|                _c15|                _c16|_c17|_c18|_c19|\n",
      "+-----------------+--------------+--------------------+--------------------+--------------------+--------------------+---+---+--------------------+-------------------+------------------+-------------------+-------------------+-----+--------------------+--------------------+--------------------+----+----+----+\n",
      "|76561197971296720|      drew82ah|http://steamcommu...|http://media.stea...|http://media.stea...|http://media.stea...|  0|  1|\"N,\"2012-10-03 20...|              \"N,\"N|             \"N,\"N|              \"N,\"N|              \"N,\"N|\"N,\"N|\"N,\"2013-02-28 14...|                null|                null|null|null|null|\n",
      "|76561197971302400|timclaridge920|http://steamcommu...|http://media.stea...|http://media.stea...|http://media.stea...|  0|  3|\"N,\"2006-11-01 01...|              \"N,\"N|103582791429521408|2004-11-30 01:28:42|              \"N,\"N|\"N,\"N|               \"N,\"N|\"N,\"2013-02-28 14...|                null|null|null|null|\n",
      "|76561197971311568|    drweir2004|http://steamcommu...|http://media.stea...|http://media.stea...|http://media.stea...|  0|  3|                   1|2011-10-18 06:46:33|             \"N,\"N| 103582791429521408|2004-11-30 08:56:43|\"N,\"N|               \"N,\"N|               \"N,\"N|\"N,\"2013-02-28 14...|null|null|null|\n",
      "+-----------------+--------------+--------------------+--------------------+--------------------+--------------------+---+---+--------------------+-------------------+------------------+-------------------+-------------------+-----+--------------------+--------------------+--------------------+----+----+----+\n",
      "only showing top 3 rows\n",
      "\n"
     ]
    }
   ],
   "source": [
    "# Drop duplicates\n",
    "player_summaries_dropdup = player_summaries.dropDuplicates() \n",
    "player_summaries_dropdup.show(3)"
   ]
  },
  {
   "cell_type": "code",
   "execution_count": 172,
   "metadata": {},
   "outputs": [],
   "source": [
    "#player_summaries_dropdup.head(100)"
   ]
  },
  {
   "cell_type": "code",
   "execution_count": 33,
   "metadata": {},
   "outputs": [
    {
     "data": {
      "text/plain": [
       "371185"
      ]
     },
     "execution_count": 33,
     "metadata": {},
     "output_type": "execute_result"
    }
   ],
   "source": [
    "player_summaries_dropdup.count()"
   ]
  },
  {
   "cell_type": "code",
   "execution_count": 34,
   "metadata": {},
   "outputs": [
    {
     "data": {
      "text/plain": [
       "371185"
      ]
     },
     "execution_count": 34,
     "metadata": {},
     "output_type": "execute_result"
    }
   ],
   "source": [
    "# Count distinct \n",
    "player_summaries_dropdup.select('_c0').distinct().count()"
   ]
  },
  {
   "cell_type": "markdown",
   "metadata": {},
   "source": [
    "__Drop columns__"
   ]
  },
  {
   "cell_type": "code",
   "execution_count": null,
   "metadata": {},
   "outputs": [],
   "source": [
    "player_summaries_dropdup = player_summaries_dropdup.drop('_c3','_c4','')"
   ]
  },
  {
   "cell_type": "code",
   "execution_count": 35,
   "metadata": {},
   "outputs": [],
   "source": [
    "def filter_spark_dataframe_by_list(df, column_name, filter_list):\n",
    "    \"\"\" Returns subset of df where df[column_name] is in filter_list \"\"\"\n",
    "    spark = SparkSession.builder.getOrCreate()\n",
    "    filter_df = spark.createDataFrame(filter_list, df.schema[column_name].dataType)\n",
    "    return df.join(filter_df, df[column_name] == filter_df[\"value\"])"
   ]
  },
  {
   "cell_type": "code",
   "execution_count": 36,
   "metadata": {},
   "outputs": [],
   "source": [
    "game_player_inc = filter_spark_dataframe_by_list(game2, 'steam_id', steamid_player_array)"
   ]
  },
  {
   "cell_type": "code",
   "execution_count": 37,
   "metadata": {},
   "outputs": [
    {
     "name": "stdout",
     "output_type": "stream",
     "text": [
      "+-----------------+------+---------------+----------------+-------------------+-----------------+\n",
      "|         steam_id|app_id|playtime_2weeks|playtime_forever|      dateretrieved|            value|\n",
      "+-----------------+------+---------------+----------------+-------------------+-----------------+\n",
      "|76561197960268400|    10|              N|               0|2014-08-14 14:05:17|76561197960268400|\n",
      "|76561197960268400|    20|              N|               0|2014-08-14 14:05:17|76561197960268400|\n",
      "|76561197960268400|    30|              N|               0|2014-08-14 14:05:17|76561197960268400|\n",
      "|76561197960268400|    40|              N|               0|2014-08-14 14:05:17|76561197960268400|\n",
      "|76561197960268400|    50|              N|               0|2014-08-14 14:05:17|76561197960268400|\n",
      "+-----------------+------+---------------+----------------+-------------------+-----------------+\n",
      "only showing top 5 rows\n",
      "\n"
     ]
    }
   ],
   "source": [
    "game_player_inc.show(5)"
   ]
  },
  {
   "cell_type": "code",
   "execution_count": 44,
   "metadata": {},
   "outputs": [
    {
     "name": "stdout",
     "output_type": "stream",
     "text": [
      "+--------------------+\n",
      "|                 _c6|\n",
      "+--------------------+\n",
      "|                   3|\n",
      "|http://media.stea...|\n",
      "|                   0|\n",
      "|                   5|\n",
      "|                   6|\n",
      "|                  88|\n",
      "|                   1|\n",
      "|http://media.stea...|\n",
      "|                   4|\n",
      "|                   2|\n",
      "|http://media.stea...|\n",
      "|http://media.stea...|\n",
      "+--------------------+\n",
      "\n"
     ]
    }
   ],
   "source": [
    "player_summaries_dropdup.createOrReplaceTempView(\"player_summaries_dropdup\")\n",
    "spark.sql(\"SELECT DISTINCT(_c6) FROM player_summaries_dropdup\").show()"
   ]
  },
  {
   "cell_type": "code",
   "execution_count": 45,
   "metadata": {},
   "outputs": [
    {
     "name": "stdout",
     "output_type": "stream",
     "text": [
      "+-------------------+\n",
      "|count(DISTINCT _c6)|\n",
      "+-------------------+\n",
      "|                 12|\n",
      "+-------------------+\n",
      "\n"
     ]
    }
   ],
   "source": [
    "spark.sql(\"SELECT COUNT(DISTINCT(_c6)) FROM player_summaries_dropdup\").show()"
   ]
  },
  {
   "cell_type": "code",
   "execution_count": 47,
   "metadata": {},
   "outputs": [
    {
     "name": "stdout",
     "output_type": "stream",
     "text": [
      "+--------------------+\n",
      "|                 _c7|\n",
      "+--------------------+\n",
      "|\"N,\"2008-03-25 20...|\n",
      "|\"N,\"2009-11-03 17...|\n",
      "|                   3|\n",
      "|\"N,\"2006-10-15 07...|\n",
      "|\"N,\"2007-11-04 05...|\n",
      "|\"N,\"2008-11-12 22...|\n",
      "|                   0|\n",
      "|\"N,\"2010-09-11 15...|\n",
      "|\"N,\"2006-08-22 08...|\n",
      "|\"N,\"2006-11-02 03...|\n",
      "|\"N,\"2006-06-15 16...|\n",
      "|                   1|\n",
      "|\"N,\"2008-02-29 20...|\n",
      "+--------------------+\n",
      "\n"
     ]
    }
   ],
   "source": [
    "spark.sql(\"SELECT DISTINCT(_c7) FROM player_summaries_dropdup\").show()"
   ]
  },
  {
   "cell_type": "code",
   "execution_count": 46,
   "metadata": {},
   "outputs": [
    {
     "name": "stdout",
     "output_type": "stream",
     "text": [
      "+-------------------+\n",
      "|count(DISTINCT _c7)|\n",
      "+-------------------+\n",
      "|                 13|\n",
      "+-------------------+\n",
      "\n"
     ]
    }
   ],
   "source": [
    "spark.sql(\"SELECT COUNT(DISTINCT(_c7)) FROM player_summaries_dropdup\").show()"
   ]
  },
  {
   "cell_type": "code",
   "execution_count": 55,
   "metadata": {},
   "outputs": [
    {
     "name": "stdout",
     "output_type": "stream",
     "text": [
      "+--------------------+\n",
      "|                 _c8|\n",
      "+--------------------+\n",
      "|\"N,\"2011-04-26 13...|\n",
      "|\"N,\"2013-03-04 05...|\n",
      "|\"N,\"2006-09-18 22...|\n",
      "|\"N,\"2012-11-09 06...|\n",
      "|\"N,\"2012-10-03 12...|\n",
      "|\"N,\"2013-02-13 12...|\n",
      "|\"N,\"2008-03-02 15...|\n",
      "|\"N,\"2007-10-12 21...|\n",
      "|\"N,\"2010-10-05 10...|\n",
      "|\"N,\"2006-10-22 15...|\n",
      "|\"N,\"2010-06-27 15...|\n",
      "|\"N,\"2008-10-08 13...|\n",
      "|\"N,\"2011-09-05 19...|\n",
      "|\"N,\"2013-01-03 12...|\n",
      "|\"N,\"2010-01-26 17...|\n",
      "|\"N,\"2007-06-22 10...|\n",
      "|\"N,\"2008-01-19 15...|\n",
      "|\"N,\"2007-10-13 19...|\n",
      "|\"N,\"2010-10-20 04...|\n",
      "|\"N,\"2008-01-06 11...|\n",
      "+--------------------+\n",
      "only showing top 20 rows\n",
      "\n"
     ]
    }
   ],
   "source": [
    "spark.sql(\"SELECT DISTINCT(_c8) FROM player_summaries_dropdup\").show()"
   ]
  },
  {
   "cell_type": "markdown",
   "metadata": {},
   "source": [
    "---\n",
    "### APPENDIX"
   ]
  },
  {
   "cell_type": "code",
   "execution_count": 134,
   "metadata": {},
   "outputs": [],
   "source": [
    "#app_id_info.select('gamesPublisher').distinct().count()\n",
    "#app_id_info.select('gamesPublisher').distinct().show(10)\n",
    "#app_id_info.select('achievePercent').show(10)\n",
    "#app_id_info.select('achievePercent').sort('achievePercent', ascending = False).show()\n",
    "#app_id_info.select('achievePercent').sort('achievePercent', ascending = True).show()"
   ]
  },
  {
   "cell_type": "code",
   "execution_count": 122,
   "metadata": {
    "scrolled": true
   },
   "outputs": [
    {
     "name": "stdout",
     "output_type": "stream",
     "text": [
      "+--------------------+-----+\n",
      "|         achieveName|count|\n",
      "+--------------------+-----+\n",
      "|                null| 1365|\n",
      "| NEW_ACHIEVEMENT_1_0|  509|\n",
      "| NEW_ACHIEVEMENT_1_1|  378|\n",
      "| NEW_ACHIEVEMENT_1_2|  357|\n",
      "| NEW_ACHIEVEMENT_1_3|  324|\n",
      "| NEW_ACHIEVEMENT_1_4|  311|\n",
      "| NEW_ACHIEVEMENT_1_6|  308|\n",
      "| NEW_ACHIEVEMENT_1_7|  305|\n",
      "| NEW_ACHIEVEMENT_1_5|  301|\n",
      "| NEW_ACHIEVEMENT_1_8|  295|\n",
      "| NEW_ACHIEVEMENT_1_9|  295|\n",
      "|NEW_ACHIEVEMENT_1_10|  292|\n",
      "|NEW_ACHIEVEMENT_1_11|  270|\n",
      "|NEW_ACHIEVEMENT_1_12|  264|\n",
      "|      ACHIEVEMENT_10|  255|\n",
      "|NEW_ACHIEVEMENT_1_13|  246|\n",
      "|      ACHIEVEMENT_11|  243|\n",
      "|NEW_ACHIEVEMENT_1_15|  238|\n",
      "|NEW_ACHIEVEMENT_1_14|  233|\n",
      "|       ACHIEVEMENT_1|  229|\n",
      "|      ACHIEVEMENT_12|  226|\n",
      "|      ACHIEVEMENT_14|  215|\n",
      "|      ACHIEVEMENT_13|  214|\n",
      "|NEW_ACHIEVEMENT_1_16|  212|\n",
      "|NEW_ACHIEVEMENT_1_17|  210|\n",
      "|NEW_ACHIEVEMENT_1_19|  208|\n",
      "|NEW_ACHIEVEMENT_1_18|  198|\n",
      "|                  11|  193|\n",
      "|      ACHIEVEMENT_15|  191|\n",
      "|       ACHIEVEMENT_2|  188|\n",
      "|      ACHIEVEMENT_16|  184|\n",
      "|      ACHIEVEMENT_17|  182|\n",
      "|NEW_ACHIEVEMENT_1_21|  182|\n",
      "|       ACHIEVEMENT_5|  181|\n",
      "|                  13|  181|\n",
      "|       ACHIEVEMENT_3|  180|\n",
      "|       ACHIEVEMENT_4|  178|\n",
      "|      ACHIEVEMENT_18|  176|\n",
      "|                  12|  174|\n",
      "|NEW_ACHIEVEMENT_1_20|  172|\n",
      "|      ACHIEVEMENT_19|  172|\n",
      "|                  10|  168|\n",
      "|                  16|  167|\n",
      "|      ACHIEVEMENT_20|  165|\n",
      "|                  15|  163|\n",
      "|                  17|  158|\n",
      "|                  18|  158|\n",
      "|                  19|  157|\n",
      "|       Achievement_1|  157|\n",
      "|                  20|  156|\n",
      "+--------------------+-----+\n",
      "only showing top 50 rows\n",
      "\n"
     ]
    }
   ],
   "source": [
    "app_id_info.groupBy('achieveName').count().sort('count', ascending = False).show(50)"
   ]
  },
  {
   "cell_type": "code",
   "execution_count": 22,
   "metadata": {},
   "outputs": [
    {
     "data": {
      "text/plain": [
       "3263775"
      ]
     },
     "execution_count": 22,
     "metadata": {},
     "output_type": "execute_result"
    }
   ],
   "source": [
    "# Number of distinct steamid (3.2mil)\n",
    "game2_df.select('steam_id').distinct().count()"
   ]
  },
  {
   "cell_type": "code",
   "execution_count": 170,
   "metadata": {
    "scrolled": true
   },
   "outputs": [],
   "source": [
    "# Get a list of distinct steamid\n",
    "#steamid_game_list = game2.select('steam_id').distinct().collect()\n",
    "#steamid_game_list"
   ]
  },
  {
   "cell_type": "code",
   "execution_count": 171,
   "metadata": {},
   "outputs": [],
   "source": [
    "# Turn the list to array\n",
    "# steamid_game_array = [int(row.steam_id) for row in steamid_game_list]\n",
    "# steamid_game_array"
   ]
  }
 ],
 "metadata": {
  "kernelspec": {
   "display_name": "pySpark",
   "language": "python",
   "name": "pyspark"
  },
  "language_info": {
   "codemirror_mode": {
    "name": "ipython",
    "version": 3
   },
   "file_extension": ".py",
   "mimetype": "text/x-python",
   "name": "python",
   "nbconvert_exporter": "python",
   "pygments_lexer": "ipython3",
   "version": "3.6.8"
  }
 },
 "nbformat": 4,
 "nbformat_minor": 4
}
