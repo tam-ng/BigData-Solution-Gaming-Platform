{
 "cells": [
  {
   "cell_type": "markdown",
   "metadata": {},
   "source": [
    "# BigData Final Project | Steam\n",
    "## <font color = 'blue'> Notebook1.2 | Clean Data_Part2</font>\n",
    "### Team Member: Jim Fang, WooJong Choi, Han Jeon, Tam Nguyen\n",
    "\n",
    "June 2020\n",
    "___"
   ]
  },
  {
   "cell_type": "markdown",
   "metadata": {},
   "source": [
    "### Import Libraries"
   ]
  },
  {
   "cell_type": "code",
   "execution_count": null,
   "metadata": {},
   "outputs": [],
   "source": [
    "from pyspark import SparkContext, SparkConf\n",
    "from pyspark.context import SparkContext\n",
    "from pyspark.sql import SparkSession\n",
    "from pyspark.sql import functions as F\n",
    "import pyspark.sql.types as t\n",
    "from pyspark.sql.functions import broadcast\n",
    "from pyspark.sql.functions import regexp_replace\n",
    "from pyspark.sql.types import IntegerType\n",
    "from pyspark.sql.functions import isnan, when, count, col, size\n",
    "from pyspark.sql.functions import year, month, dayofmonth\n",
    "from functools import reduce\n",
    "\n",
    "import pandas as pd\n",
    "import matplotlib.pyplot as plt\n",
    "from pyspark.ml.feature import VectorAssembler\n",
    "from pyspark.ml.stat import Correlation\n",
    "\n",
    "\n",
    "import matplotlib.pyplot as plt\n",
    "%matplotlib inline"
   ]
  },
  {
   "cell_type": "code",
   "execution_count": null,
   "metadata": {},
   "outputs": [],
   "source": [
    "spark = SparkSession.builder.enableHiveSupport().appName('CleanData').getOrCreate()\n",
    "sc = spark.sparkContext"
   ]
  },
  {
   "cell_type": "code",
   "execution_count": null,
   "metadata": {},
   "outputs": [],
   "source": [
    "!hdfs dfs -ls /user/tamng/jwht/SteamData/steamData_new"
   ]
  },
  {
   "cell_type": "markdown",
   "metadata": {},
   "source": [
    "---\n",
    "### Function"
   ]
  },
  {
   "cell_type": "code",
   "execution_count": 4,
   "metadata": {},
   "outputs": [],
   "source": [
    "def check_missing(df):\n",
    "    ''' Check missing value'''\n",
    "    df.select([count(when(col(c).isNull(), c)).alias(c) for c in df.columns]).show()"
   ]
  },
  {
   "cell_type": "code",
   "execution_count": 5,
   "metadata": {},
   "outputs": [],
   "source": [
    "def rename_col(df, newColumns):\n",
    "    ''' Rename all columns        \n",
    "        Note: newColumns is a list of columns name '''\n",
    "    oldColumns = df.schema.names\n",
    "    df = reduce(lambda df, idx: df.withColumnRenamed(oldColumns[idx], newColumns[idx]), range(len(oldColumns)), df)\n",
    "    return df"
   ]
  },
  {
   "cell_type": "code",
   "execution_count": 155,
   "metadata": {},
   "outputs": [],
   "source": [
    "def basic_info(df):\n",
    "    \n",
    "    '''\n",
    "        Print out the basic ddescription for each table, icluding:\n",
    "        1. total rows/ observation\n",
    "        2. Check missing value by columns\n",
    "        3. Print out the first 3 lines\n",
    "        4. Basic description\n",
    "    '''\n",
    "    \n",
    "    print('TOTAL ROWS:', df.count())\n",
    "    print('\\n')\n",
    "    print('*-------------'*5)\n",
    "    print('\\n')\n",
    "    print('MISSING VALUE:')\n",
    "    check_missing(df)\n",
    "    print('*-------------'*5)\n",
    "    print('\\n')\n",
    "    print('PRINT OUT THE 1st 3 LINES:')\n",
    "    df.show(3, truncate = True)\n",
    "    print('*-------------'*5)\n",
    "    print('\\n')\n",
    "    print('TABLE BASIC DESCRIPTION:')\n",
    "    df.describe().show(10,truncate = True)\n",
    "    print('*-------------'*5)\n",
    "    distinct_count = []\n",
    "    column_name = df.columns\n",
    "    for i in column_name:\n",
    "        distinct_count.append(df.select(col(i)).distinct().count())\n",
    "\n",
    "    print('DISTINCT COUNT BY COLUMN:')\n",
    "    print('\\n')\n",
    "    print(pd.DataFrame(zip(column_name,distinct_count)).\\\n",
    "      rename(columns={0:'column_name', 1:'distinct_count'}))"
   ]
  },
  {
   "cell_type": "markdown",
   "metadata": {},
   "source": [
    "---\n",
    "## Import Data\n",
    "\n",
    "Clean table by table"
   ]
  },
  {
   "cell_type": "markdown",
   "metadata": {},
   "source": [
    "### 1. game2_df"
   ]
  },
  {
   "cell_type": "code",
   "execution_count": 6,
   "metadata": {},
   "outputs": [],
   "source": [
    "game2_df = spark.read.csv('/user/tamng/jwht/CleanData/game2_df.csv', inferSchema = True, header = True)"
   ]
  },
  {
   "cell_type": "code",
   "execution_count": 7,
   "metadata": {},
   "outputs": [
    {
     "name": "stdout",
     "output_type": "stream",
     "text": [
      "root\n",
      " |-- steam_id: long (nullable = true)\n",
      " |-- app_id: integer (nullable = true)\n",
      " |-- playtime_2weeks: integer (nullable = true)\n",
      " |-- playtime_forever: integer (nullable = true)\n",
      " |-- dateretrieved: timestamp (nullable = true)\n",
      "\n"
     ]
    }
   ],
   "source": [
    "game2_df.printSchema()"
   ]
  },
  {
   "cell_type": "code",
   "execution_count": 8,
   "metadata": {},
   "outputs": [
    {
     "name": "stdout",
     "output_type": "stream",
     "text": [
      "+-----------------+------+---------------+----------------+-------------------+\n",
      "|         steam_id|app_id|playtime_2weeks|playtime_forever|      dateretrieved|\n",
      "+-----------------+------+---------------+----------------+-------------------+\n",
      "|76561197960265729|    10|              0|               0|2014-08-14 14:04:18|\n",
      "|76561197960265729|    20|              0|               0|2014-08-14 14:04:18|\n",
      "|76561197960265729|    30|              0|               0|2014-08-14 14:04:18|\n",
      "+-----------------+------+---------------+----------------+-------------------+\n",
      "only showing top 3 rows\n",
      "\n"
     ]
    }
   ],
   "source": [
    "game2_df.show(3, truncate = True)"
   ]
  },
  {
   "cell_type": "code",
   "execution_count": 20,
   "metadata": {},
   "outputs": [
    {
     "data": {
      "text/plain": [
       "4161"
      ]
     },
     "execution_count": 20,
     "metadata": {},
     "output_type": "execute_result"
    }
   ],
   "source": [
    "game2_df.select('app_id').distinct().count()"
   ]
  },
  {
   "cell_type": "markdown",
   "metadata": {},
   "source": [
    "### 2. app_id_info"
   ]
  },
  {
   "cell_type": "code",
   "execution_count": 9,
   "metadata": {},
   "outputs": [],
   "source": [
    "app_id_info = spark.read.csv('/user/tamng/jwht/SteamData/steamData_new/App_id_info_new.csv', inferSchema = True, header = False)"
   ]
  },
  {
   "cell_type": "code",
   "execution_count": 10,
   "metadata": {},
   "outputs": [
    {
     "name": "stdout",
     "output_type": "stream",
     "text": [
      "root\n",
      " |-- _c0: integer (nullable = true)\n",
      " |-- _c1: string (nullable = true)\n",
      " |-- _c2: string (nullable = true)\n",
      " |-- _c3: string (nullable = true)\n",
      " |-- _c4: string (nullable = true)\n",
      " |-- _c5: string (nullable = true)\n",
      " |-- _c6: integer (nullable = true)\n",
      " |-- _c7: integer (nullable = true)\n",
      "\n"
     ]
    }
   ],
   "source": [
    "app_id_info.printSchema()"
   ]
  },
  {
   "cell_type": "code",
   "execution_count": 15,
   "metadata": {},
   "outputs": [
    {
     "data": {
      "text/plain": [
       "[Row(_c0=10, _c1='Counter-Strike', _c2='game', _c3='9.99', _c4='2000-11-01 00:00:00', _c5='88', _c6=0, _c7=1),\n",
       " Row(_c0=20, _c1='Team Fortress Classic', _c2='game', _c3='4.99', _c4='1999-04-01 00:00:00', _c5='-1', _c6=0, _c7=1)]"
      ]
     },
     "execution_count": 15,
     "metadata": {},
     "output_type": "execute_result"
    }
   ],
   "source": [
    "app_id_info.head(2)"
   ]
  },
  {
   "cell_type": "code",
   "execution_count": 17,
   "metadata": {},
   "outputs": [],
   "source": [
    "# Rename the header columns\n",
    "newColumns = ['app_id', 'title', 'type', 'price', \n",
    "              'releasedDate','rating','requiredAge', 'isMultiplayer']\n",
    "app_id_info = rename_col(app_id_info, newColumns)"
   ]
  },
  {
   "cell_type": "code",
   "execution_count": 18,
   "metadata": {},
   "outputs": [
    {
     "name": "stdout",
     "output_type": "stream",
     "text": [
      "+------+--------------------+----+-----+-------------------+------+-----------+-------------+\n",
      "|app_id|               title|type|price|       releasedDate|rating|requiredAge|isMultiplayer|\n",
      "+------+--------------------+----+-----+-------------------+------+-----------+-------------+\n",
      "|    10|      Counter-Strike|game| 9.99|2000-11-01 00:00:00|    88|          0|            1|\n",
      "|    20|Team Fortress Cla...|game| 4.99|1999-04-01 00:00:00|    -1|          0|            1|\n",
      "|    30|       Day of Defeat|game| 4.99|2003-05-01 00:00:00|    79|          0|            1|\n",
      "+------+--------------------+----+-----+-------------------+------+-----------+-------------+\n",
      "only showing top 3 rows\n",
      "\n"
     ]
    }
   ],
   "source": [
    "app_id_info.show(3, truncate = True)"
   ]
  },
  {
   "cell_type": "code",
   "execution_count": 19,
   "metadata": {},
   "outputs": [
    {
     "data": {
      "text/plain": [
       "17783"
      ]
     },
     "execution_count": 19,
     "metadata": {},
     "output_type": "execute_result"
    }
   ],
   "source": [
    "app_id_info.count()"
   ]
  },
  {
   "cell_type": "code",
   "execution_count": 21,
   "metadata": {},
   "outputs": [],
   "source": [
    "# Save app_id_info table\n",
    "app_id_info.write.csv('/user/tamng/jwht/CleanData/app_id_info.csv', header = True)"
   ]
  },
  {
   "cell_type": "markdown",
   "metadata": {},
   "source": [
    "### 3. gamesDeveloper"
   ]
  },
  {
   "cell_type": "code",
   "execution_count": 22,
   "metadata": {},
   "outputs": [],
   "source": [
    "games_developer = spark.read.csv('/user/tamng/jwht/SteamData/steamData_new/Games_Developers_new.csv',\\\n",
    "                             inferSchema = True, header = False)"
   ]
  },
  {
   "cell_type": "code",
   "execution_count": 23,
   "metadata": {},
   "outputs": [
    {
     "name": "stdout",
     "output_type": "stream",
     "text": [
      "root\n",
      " |-- _c0: integer (nullable = true)\n",
      " |-- _c1: string (nullable = true)\n",
      "\n"
     ]
    }
   ],
   "source": [
    "games_developer.printSchema()"
   ]
  },
  {
   "cell_type": "code",
   "execution_count": 24,
   "metadata": {},
   "outputs": [
    {
     "name": "stdout",
     "output_type": "stream",
     "text": [
      "+---+-----+\n",
      "|_c0|  _c1|\n",
      "+---+-----+\n",
      "| 10|Valve|\n",
      "| 20|Valve|\n",
      "+---+-----+\n",
      "only showing top 2 rows\n",
      "\n"
     ]
    }
   ],
   "source": [
    "games_developer.show(2)"
   ]
  },
  {
   "cell_type": "code",
   "execution_count": 25,
   "metadata": {},
   "outputs": [],
   "source": [
    "# Rename the header columns\n",
    "newColumns = ['app_id', 'gamesDeveloper']\n",
    "games_developer = rename_col(games_developer, newColumns)"
   ]
  },
  {
   "cell_type": "code",
   "execution_count": 26,
   "metadata": {},
   "outputs": [
    {
     "name": "stdout",
     "output_type": "stream",
     "text": [
      "root\n",
      " |-- app_id: integer (nullable = true)\n",
      " |-- gamesDeveloper: string (nullable = true)\n",
      "\n"
     ]
    }
   ],
   "source": [
    "games_developer.printSchema()"
   ]
  },
  {
   "cell_type": "code",
   "execution_count": 27,
   "metadata": {},
   "outputs": [
    {
     "data": {
      "text/plain": [
       "19333"
      ]
     },
     "execution_count": 27,
     "metadata": {},
     "output_type": "execute_result"
    }
   ],
   "source": [
    "games_developer.count()"
   ]
  },
  {
   "cell_type": "code",
   "execution_count": 28,
   "metadata": {},
   "outputs": [
    {
     "data": {
      "text/plain": [
       "6582"
      ]
     },
     "execution_count": 28,
     "metadata": {},
     "output_type": "execute_result"
    }
   ],
   "source": [
    "games_developer.select('gamesDeveloper').distinct().count()"
   ]
  },
  {
   "cell_type": "code",
   "execution_count": 29,
   "metadata": {},
   "outputs": [],
   "source": [
    "# Save games_developer table\n",
    "games_developer.write.csv('/user/tamng/jwht/CleanData/games_developer.csv', header = True)"
   ]
  },
  {
   "cell_type": "markdown",
   "metadata": {},
   "source": [
    "### 4. gamesGenre"
   ]
  },
  {
   "cell_type": "code",
   "execution_count": 30,
   "metadata": {},
   "outputs": [],
   "source": [
    "games_genres = spark.read.csv('/user/tamng/jwht/SteamData/steamData_new/Games_Genres_new.csv',\\\n",
    "                             inferSchema = True, header = False)"
   ]
  },
  {
   "cell_type": "code",
   "execution_count": 31,
   "metadata": {},
   "outputs": [
    {
     "name": "stdout",
     "output_type": "stream",
     "text": [
      "root\n",
      " |-- _c0: integer (nullable = true)\n",
      " |-- _c1: string (nullable = true)\n",
      "\n"
     ]
    }
   ],
   "source": [
    "games_genres.printSchema()"
   ]
  },
  {
   "cell_type": "code",
   "execution_count": 32,
   "metadata": {},
   "outputs": [
    {
     "name": "stdout",
     "output_type": "stream",
     "text": [
      "+---+------+\n",
      "|_c0|   _c1|\n",
      "+---+------+\n",
      "| 10|Action|\n",
      "| 20|Action|\n",
      "+---+------+\n",
      "only showing top 2 rows\n",
      "\n"
     ]
    }
   ],
   "source": [
    "games_genres.show(2)"
   ]
  },
  {
   "cell_type": "code",
   "execution_count": 33,
   "metadata": {},
   "outputs": [],
   "source": [
    "# Rename the header columns\n",
    "newColumns = ['app_id', 'gamesGenre']\n",
    "games_genres = rename_col(games_genres, newColumns)"
   ]
  },
  {
   "cell_type": "code",
   "execution_count": 34,
   "metadata": {},
   "outputs": [
    {
     "name": "stdout",
     "output_type": "stream",
     "text": [
      "root\n",
      " |-- app_id: integer (nullable = true)\n",
      " |-- gamesGenre: string (nullable = true)\n",
      "\n"
     ]
    }
   ],
   "source": [
    "games_genres.printSchema()"
   ]
  },
  {
   "cell_type": "code",
   "execution_count": 35,
   "metadata": {},
   "outputs": [
    {
     "data": {
      "text/plain": [
       "39669"
      ]
     },
     "execution_count": 35,
     "metadata": {},
     "output_type": "execute_result"
    }
   ],
   "source": [
    "games_genres.count()"
   ]
  },
  {
   "cell_type": "code",
   "execution_count": 36,
   "metadata": {},
   "outputs": [
    {
     "data": {
      "text/plain": [
       "22"
      ]
     },
     "execution_count": 36,
     "metadata": {},
     "output_type": "execute_result"
    }
   ],
   "source": [
    "games_genres.select('gamesGenre').distinct().count()"
   ]
  },
  {
   "cell_type": "code",
   "execution_count": 58,
   "metadata": {},
   "outputs": [
    {
     "data": {
      "text/plain": [
       "17195"
      ]
     },
     "execution_count": 58,
     "metadata": {},
     "output_type": "execute_result"
    }
   ],
   "source": [
    "games_genres.select('app_id').distinct().count()"
   ]
  },
  {
   "cell_type": "code",
   "execution_count": 59,
   "metadata": {},
   "outputs": [
    {
     "data": {
      "text/plain": [
       "17195"
      ]
     },
     "execution_count": 59,
     "metadata": {},
     "output_type": "execute_result"
    }
   ],
   "source": [
    "games_genres.select('app_id').distinct().count()"
   ]
  },
  {
   "cell_type": "code",
   "execution_count": 37,
   "metadata": {},
   "outputs": [],
   "source": [
    "# Save games_genres table\n",
    "games_genres.write.csv('/user/tamng/jwht/CleanData/games_genres.csv', header = True)"
   ]
  },
  {
   "cell_type": "markdown",
   "metadata": {},
   "source": [
    "### 5. gamesPublisher"
   ]
  },
  {
   "cell_type": "code",
   "execution_count": 38,
   "metadata": {},
   "outputs": [],
   "source": [
    "games_publisher = spark.read.csv('/user/tamng/jwht/SteamData/steamData_new/Games_Publishers_new.csv',\\\n",
    "                             inferSchema = True, header = False)"
   ]
  },
  {
   "cell_type": "code",
   "execution_count": 39,
   "metadata": {},
   "outputs": [
    {
     "name": "stdout",
     "output_type": "stream",
     "text": [
      "root\n",
      " |-- _c0: integer (nullable = true)\n",
      " |-- _c1: string (nullable = true)\n",
      "\n"
     ]
    }
   ],
   "source": [
    "games_publisher.printSchema()"
   ]
  },
  {
   "cell_type": "code",
   "execution_count": 40,
   "metadata": {},
   "outputs": [
    {
     "name": "stdout",
     "output_type": "stream",
     "text": [
      "+---+-----+\n",
      "|_c0|  _c1|\n",
      "+---+-----+\n",
      "| 10|Valve|\n",
      "| 20|Valve|\n",
      "+---+-----+\n",
      "only showing top 2 rows\n",
      "\n"
     ]
    }
   ],
   "source": [
    "games_publisher.show(2)"
   ]
  },
  {
   "cell_type": "code",
   "execution_count": 41,
   "metadata": {},
   "outputs": [],
   "source": [
    "# Rename the header columns\n",
    "newColumns = ['app_id', 'gamesPublisher']\n",
    "games_publisher = rename_col(games_publisher, newColumns)"
   ]
  },
  {
   "cell_type": "code",
   "execution_count": 42,
   "metadata": {},
   "outputs": [
    {
     "name": "stdout",
     "output_type": "stream",
     "text": [
      "root\n",
      " |-- app_id: integer (nullable = true)\n",
      " |-- gamesPublisher: string (nullable = true)\n",
      "\n"
     ]
    }
   ],
   "source": [
    "games_publisher.printSchema()"
   ]
  },
  {
   "cell_type": "code",
   "execution_count": 43,
   "metadata": {},
   "outputs": [
    {
     "data": {
      "text/plain": [
       "18761"
      ]
     },
     "execution_count": 43,
     "metadata": {},
     "output_type": "execute_result"
    }
   ],
   "source": [
    "games_publisher.count()"
   ]
  },
  {
   "cell_type": "code",
   "execution_count": 44,
   "metadata": {},
   "outputs": [
    {
     "data": {
      "text/plain": [
       "4425"
      ]
     },
     "execution_count": 44,
     "metadata": {},
     "output_type": "execute_result"
    }
   ],
   "source": [
    "games_publisher.select('gamesPublisher').distinct().count()"
   ]
  },
  {
   "cell_type": "code",
   "execution_count": 57,
   "metadata": {},
   "outputs": [
    {
     "data": {
      "text/plain": [
       "17783"
      ]
     },
     "execution_count": 57,
     "metadata": {},
     "output_type": "execute_result"
    }
   ],
   "source": [
    "games_publisher.select('app_id').distinct().count()"
   ]
  },
  {
   "cell_type": "code",
   "execution_count": 45,
   "metadata": {},
   "outputs": [],
   "source": [
    "# Save games_publisher table\n",
    "games_publisher.write.csv('/user/tamng/jwht/CleanData/games_publisher.csv', header = True)"
   ]
  },
  {
   "cell_type": "markdown",
   "metadata": {},
   "source": [
    "### 6. Groups"
   ]
  },
  {
   "cell_type": "code",
   "execution_count": 46,
   "metadata": {},
   "outputs": [],
   "source": [
    "groups = spark.read.csv('/user/tamng/jwht/SteamData/steamData_new/Groups.csv',\\\n",
    "                             inferSchema = True, header = False)"
   ]
  },
  {
   "cell_type": "code",
   "execution_count": 47,
   "metadata": {},
   "outputs": [
    {
     "name": "stdout",
     "output_type": "stream",
     "text": [
      "root\n",
      " |-- _c0: long (nullable = true)\n",
      " |-- _c1: integer (nullable = true)\n",
      " |-- _c2: timestamp (nullable = true)\n",
      "\n"
     ]
    }
   ],
   "source": [
    "groups.printSchema()"
   ]
  },
  {
   "cell_type": "code",
   "execution_count": 48,
   "metadata": {},
   "outputs": [
    {
     "name": "stdout",
     "output_type": "stream",
     "text": [
      "+-----------------+---+-------------------+\n",
      "|              _c0|_c1|                _c2|\n",
      "+-----------------+---+-------------------+\n",
      "|76561197960265730|  4|2013-05-06 02:09:28|\n",
      "|76561197960265730|  5|2013-05-06 02:09:28|\n",
      "+-----------------+---+-------------------+\n",
      "only showing top 2 rows\n",
      "\n"
     ]
    }
   ],
   "source": [
    "groups.show(2)"
   ]
  },
  {
   "cell_type": "code",
   "execution_count": 49,
   "metadata": {},
   "outputs": [],
   "source": [
    "# Rename the header columns\n",
    "newColumns = ['steam_id', 'group_id', 'dateretrieved']\n",
    "groups = rename_col(groups, newColumns)"
   ]
  },
  {
   "cell_type": "code",
   "execution_count": 51,
   "metadata": {},
   "outputs": [
    {
     "name": "stdout",
     "output_type": "stream",
     "text": [
      "root\n",
      " |-- steam_id: long (nullable = true)\n",
      " |-- group_id: integer (nullable = true)\n",
      " |-- dateretrieved: timestamp (nullable = true)\n",
      "\n"
     ]
    }
   ],
   "source": [
    "groups.printSchema()"
   ]
  },
  {
   "cell_type": "code",
   "execution_count": 50,
   "metadata": {},
   "outputs": [
    {
     "name": "stdout",
     "output_type": "stream",
     "text": [
      "+-----------------+--------+-------------------+\n",
      "|         steam_id|group_id|      dateretrieved|\n",
      "+-----------------+--------+-------------------+\n",
      "|76561197960265730|       4|2013-05-06 02:09:28|\n",
      "|76561197960265730|       5|2013-05-06 02:09:28|\n",
      "+-----------------+--------+-------------------+\n",
      "only showing top 2 rows\n",
      "\n"
     ]
    }
   ],
   "source": [
    "groups.show(2)"
   ]
  },
  {
   "cell_type": "code",
   "execution_count": 52,
   "metadata": {},
   "outputs": [],
   "source": [
    "# Save groups table\n",
    "groups.write.csv('/user/tamng/jwht/CleanData/groups.csv', header = True)"
   ]
  },
  {
   "cell_type": "markdown",
   "metadata": {},
   "source": [
    "### 7. Friends"
   ]
  },
  {
   "cell_type": "code",
   "execution_count": 53,
   "metadata": {},
   "outputs": [],
   "source": [
    "friends = spark.read.csv('/user/tamng/jwht/CleanData/friends.csv',\\\n",
    "                             inferSchema = True, header = True)"
   ]
  },
  {
   "cell_type": "code",
   "execution_count": 54,
   "metadata": {},
   "outputs": [
    {
     "name": "stdout",
     "output_type": "stream",
     "text": [
      "root\n",
      " |-- steam_id_a: long (nullable = true)\n",
      " |-- steam_id_b: long (nullable = true)\n",
      " |-- relationship: string (nullable = true)\n",
      " |-- friend_since: timestamp (nullable = true)\n",
      " |-- dateretrieved: timestamp (nullable = true)\n",
      "\n"
     ]
    }
   ],
   "source": [
    "friends.printSchema()"
   ]
  },
  {
   "cell_type": "code",
   "execution_count": 55,
   "metadata": {},
   "outputs": [
    {
     "name": "stdout",
     "output_type": "stream",
     "text": [
      "+-----------------+-----------------+------------+-------------------+-------------------+\n",
      "|       steam_id_a|       steam_id_b|relationship|       friend_since|      dateretrieved|\n",
      "+-----------------+-----------------+------------+-------------------+-------------------+\n",
      "|76561197960265744|76561197960265731|      friend|1969-12-31 17:00:00|2013-05-05 01:52:30|\n",
      "|76561197960265744|76561197960265733|      friend|1969-12-31 17:00:00|2013-05-06 15:14:15|\n",
      "|76561197960265744|76561197960265738|      friend|1969-12-31 17:00:00|2013-05-06 15:56:24|\n",
      "+-----------------+-----------------+------------+-------------------+-------------------+\n",
      "only showing top 3 rows\n",
      "\n"
     ]
    }
   ],
   "source": [
    "friends.show(3, truncate = True)"
   ]
  },
  {
   "cell_type": "markdown",
   "metadata": {},
   "source": [
    "### 8. Join game_developer, game_publisher, and game_genre"
   ]
  },
  {
   "cell_type": "markdown",
   "metadata": {},
   "source": [
    "<font color = 'blue'> Join games_developer with games_genres </font>"
   ]
  },
  {
   "cell_type": "code",
   "execution_count": 60,
   "metadata": {},
   "outputs": [
    {
     "name": "stdout",
     "output_type": "stream",
     "text": [
      "+--------+----------+\n",
      "|app_id_1|gamesGenre|\n",
      "+--------+----------+\n",
      "|      10|    Action|\n",
      "|      20|    Action|\n",
      "+--------+----------+\n",
      "only showing top 2 rows\n",
      "\n"
     ]
    }
   ],
   "source": [
    "# Rename app_id column to join to table and drop later\n",
    "games_genres = games_genres.withColumnRenamed('app_id', 'app_id_1')\n",
    "games_genres.show(2)"
   ]
  },
  {
   "cell_type": "code",
   "execution_count": 90,
   "metadata": {},
   "outputs": [],
   "source": [
    "game_dgp = games_developer.join(broadcast(games_genres),\\\n",
    "                                games_developer[\"app_id\"] == games_genres[\"app_id_1\"], how='left')"
   ]
  },
  {
   "cell_type": "code",
   "execution_count": 92,
   "metadata": {},
   "outputs": [
    {
     "name": "stdout",
     "output_type": "stream",
     "text": [
      "+------+--------------+----------+\n",
      "|app_id|gamesDeveloper|gamesGenre|\n",
      "+------+--------------+----------+\n",
      "|    10|         Valve|    Action|\n",
      "|    20|         Valve|    Action|\n",
      "+------+--------------+----------+\n",
      "only showing top 2 rows\n",
      "\n"
     ]
    }
   ],
   "source": [
    "game_dgp= game_dgp.drop('app_id_1')\n",
    "game_dgp.show(2)"
   ]
  },
  {
   "cell_type": "markdown",
   "metadata": {},
   "source": [
    "<font color = 'blue'> Join games_developer, games_genres, game_publisher </font>"
   ]
  },
  {
   "cell_type": "code",
   "execution_count": 84,
   "metadata": {},
   "outputs": [
    {
     "name": "stdout",
     "output_type": "stream",
     "text": [
      "+--------+--------------+\n",
      "|app_id_1|gamesPublisher|\n",
      "+--------+--------------+\n",
      "|      10|         Valve|\n",
      "|      20|         Valve|\n",
      "+--------+--------------+\n",
      "only showing top 2 rows\n",
      "\n"
     ]
    }
   ],
   "source": [
    "# Rename app_id column to join to table and drop later\n",
    "games_publisher = games_publisher.withColumnRenamed('app_id', 'app_id_1')\n",
    "games_publisher.show(2)"
   ]
  },
  {
   "cell_type": "code",
   "execution_count": 93,
   "metadata": {},
   "outputs": [],
   "source": [
    "game_dgp = game_dgp.join(broadcast(games_publisher),\\\n",
    "                                game_dgp[\"app_id\"] == games_publisher[\"app_id_1\"], how='left')"
   ]
  },
  {
   "cell_type": "code",
   "execution_count": 95,
   "metadata": {},
   "outputs": [
    {
     "name": "stdout",
     "output_type": "stream",
     "text": [
      "+------+--------------+----------+--------------+\n",
      "|app_id|gamesDeveloper|gamesGenre|gamesPublisher|\n",
      "+------+--------------+----------+--------------+\n",
      "|    10|         Valve|    Action|         Valve|\n",
      "|    20|         Valve|    Action|         Valve|\n",
      "+------+--------------+----------+--------------+\n",
      "only showing top 2 rows\n",
      "\n"
     ]
    }
   ],
   "source": [
    "game_dgp= game_dgp.drop('app_id_1')\n",
    "game_dgp.show(2)"
   ]
  },
  {
   "cell_type": "code",
   "execution_count": 96,
   "metadata": {},
   "outputs": [
    {
     "data": {
      "text/plain": [
       "46404"
      ]
     },
     "execution_count": 96,
     "metadata": {},
     "output_type": "execute_result"
    }
   ],
   "source": [
    "game_dgp.count()"
   ]
  },
  {
   "cell_type": "code",
   "execution_count": 97,
   "metadata": {
    "scrolled": true
   },
   "outputs": [
    {
     "name": "stdout",
     "output_type": "stream",
     "text": [
      "+------+--------------+----------+--------------+\n",
      "|app_id|gamesDeveloper|gamesGenre|gamesPublisher|\n",
      "+------+--------------+----------+--------------+\n",
      "|     0|             0|       580|          6102|\n",
      "+------+--------------+----------+--------------+\n",
      "\n"
     ]
    }
   ],
   "source": [
    "check_missing(game_dgp)"
   ]
  },
  {
   "cell_type": "code",
   "execution_count": 98,
   "metadata": {},
   "outputs": [],
   "source": [
    "# Save game_dgp table\n",
    "game_dgp.write.csv('/user/tamng/jwht/CleanData/game_dgp.csv', header = True)"
   ]
  },
  {
   "cell_type": "code",
   "execution_count": null,
   "metadata": {},
   "outputs": [],
   "source": []
  },
  {
   "cell_type": "code",
   "execution_count": 149,
   "metadata": {},
   "outputs": [],
   "source": [
    "# Create the name for each dataframe\n",
    "game2_df.name = 'game2_df'\n",
    "app_id_info.name = 'app_id_info'\n",
    "game_dgp.name = 'game_dgp'\n",
    "friends.name = 'friends'\n",
    "groups.name = 'groups'"
   ]
  },
  {
   "cell_type": "code",
   "execution_count": 156,
   "metadata": {},
   "outputs": [
    {
     "name": "stdout",
     "output_type": "stream",
     "text": [
      "TABLE NAME: game2_df\n",
      "TOTAL ROWS: 100000000\n",
      "\n",
      "\n",
      "*-------------*-------------*-------------*-------------*-------------\n",
      "\n",
      "\n",
      "MISSING VALUE:\n",
      "+--------+------+---------------+----------------+-------------+\n",
      "|steam_id|app_id|playtime_2weeks|playtime_forever|dateretrieved|\n",
      "+--------+------+---------------+----------------+-------------+\n",
      "|       0|     0|              0|               0|            0|\n",
      "+--------+------+---------------+----------------+-------------+\n",
      "\n",
      "*-------------*-------------*-------------*-------------*-------------\n",
      "\n",
      "\n",
      "PRINT OUT THE 1st 3 LINES:\n",
      "+-----------------+------+---------------+----------------+-------------------+\n",
      "|         steam_id|app_id|playtime_2weeks|playtime_forever|      dateretrieved|\n",
      "+-----------------+------+---------------+----------------+-------------------+\n",
      "|76561197960265729|    10|              0|               0|2014-08-14 14:04:18|\n",
      "|76561197960265729|    20|              0|               0|2014-08-14 14:04:18|\n",
      "|76561197960265729|    30|              0|               0|2014-08-14 14:04:18|\n",
      "+-----------------+------+---------------+----------------+-------------------+\n",
      "only showing top 3 rows\n",
      "\n",
      "*-------------*-------------*-------------*-------------*-------------\n",
      "\n",
      "\n",
      "TABLE BASIC DESCRIPTION:\n",
      "+-------+--------------------+-----------------+------------------+------------------+\n",
      "|summary|            steam_id|           app_id|   playtime_2weeks|  playtime_forever|\n",
      "+-------+--------------------+-----------------+------------------+------------------+\n",
      "|  count|           100000000|        100000000|         100000000|         100000000|\n",
      "|   mean|7.656119796768614...|   65809.90421624|        8.64317482|      834.75832798|\n",
      "| stddev|   4349497.953394739|90306.29735415803|157.70395657876264|6183.4501616811485|\n",
      "|    min|   76561197960265729|               10|                 0|                 0|\n",
      "|    max|   76561197975000941|           319180|             20159|           2434347|\n",
      "+-------+--------------------+-----------------+------------------+------------------+\n",
      "\n",
      "*-------------*-------------*-------------*-------------*-------------\n",
      "DISTINCT COUNT BY COLUMN:\n",
      "\n",
      "\n",
      "        column_name  distinct_count\n",
      "0          steam_id         3263775\n",
      "1            app_id            4161\n",
      "2   playtime_2weeks           11559\n",
      "3  playtime_forever          148538\n",
      "4     dateretrieved          205951\n",
      "None\n",
      "\n",
      "\n",
      "TABLE NAME: app_id_info\n",
      "TOTAL ROWS: 17783\n",
      "\n",
      "\n",
      "*-------------*-------------*-------------*-------------*-------------\n",
      "\n",
      "\n",
      "MISSING VALUE:\n",
      "+------+-----+----+-----+------------+------+-----------+-------------+\n",
      "|app_id|title|type|price|releasedDate|rating|requiredAge|isMultiplayer|\n",
      "+------+-----+----+-----+------------+------+-----------+-------------+\n",
      "|     0|    0|   0|    0|           0|     0|          0|            0|\n",
      "+------+-----+----+-----+------------+------+-----------+-------------+\n",
      "\n",
      "*-------------*-------------*-------------*-------------*-------------\n",
      "\n",
      "\n",
      "PRINT OUT THE 1st 3 LINES:\n",
      "+------+--------------------+----+-----+-------------------+------+-----------+-------------+\n",
      "|app_id|               title|type|price|       releasedDate|rating|requiredAge|isMultiplayer|\n",
      "+------+--------------------+----+-----+-------------------+------+-----------+-------------+\n",
      "|    10|      Counter-Strike|game| 9.99|2000-11-01 00:00:00|    88|          0|            1|\n",
      "|    20|Team Fortress Cla...|game| 4.99|1999-04-01 00:00:00|    -1|          0|            1|\n",
      "|    30|       Day of Defeat|game| 4.99|2003-05-01 00:00:00|    79|          0|            1|\n",
      "+------+--------------------+----+-----+-------------------+------+-----------+-------------+\n",
      "only showing top 3 rows\n",
      "\n",
      "*-------------*-------------*-------------*-------------*-------------\n",
      "\n",
      "\n",
      "TABLE BASIC DESCRIPTION:\n",
      "+-------+------------------+--------------------+---------------+------------------+-------------------+------------------+------------------+-------------------+\n",
      "|summary|            app_id|               title|           type|             price|       releasedDate|            rating|       requiredAge|      isMultiplayer|\n",
      "+-------+------------------+--------------------+---------------+------------------+-------------------+------------------+------------------+-------------------+\n",
      "|  count|             17783|               17783|          17783|             17783|              17783|             17783|             17783|              17783|\n",
      "|   mean|296291.91992352245|               994.5|           null| 9.222210100100959|               8.99| 9.486559442132494|1.3998200528594724|0.31052128437271553|\n",
      "| stddev|122344.88993405187|  1208.4454890478098|           null|14.556621674062415|                NaN|26.041625545435533| 4.629406766362731|0.46272006274514316|\n",
      "|    min|                10| Edna & Harvey: H...| no subtitles)\"|                 0|1970-01-01 00:00:00|                -1|                -1|                  0|\n",
      "|    max|            469850|theHunter: Wayfar...|          video|               dlc|               8.99|                96|                18|                  1|\n",
      "+-------+------------------+--------------------+---------------+------------------+-------------------+------------------+------------------+-------------------+\n",
      "\n",
      "*-------------*-------------*-------------*-------------*-------------\n",
      "DISTINCT COUNT BY COLUMN:\n",
      "\n",
      "\n",
      "     column_name  distinct_count\n",
      "0         app_id           17783\n",
      "1          title           17596\n",
      "2           type               7\n",
      "3          price              93\n",
      "4   releasedDate            1967\n",
      "5         rating              73\n",
      "6    requiredAge              12\n",
      "7  isMultiplayer               2\n",
      "None\n",
      "\n",
      "\n",
      "TABLE NAME: game_dgp\n",
      "TOTAL ROWS: 46404\n",
      "\n",
      "\n",
      "*-------------*-------------*-------------*-------------*-------------\n",
      "\n",
      "\n",
      "MISSING VALUE:\n",
      "+------+--------------+----------+--------------+\n",
      "|app_id|gamesDeveloper|gamesGenre|gamesPublisher|\n",
      "+------+--------------+----------+--------------+\n",
      "|     0|             0|       580|          6102|\n",
      "+------+--------------+----------+--------------+\n",
      "\n",
      "*-------------*-------------*-------------*-------------*-------------\n",
      "\n",
      "\n",
      "PRINT OUT THE 1st 3 LINES:\n",
      "+------+--------------+----------+--------------+\n",
      "|app_id|gamesDeveloper|gamesGenre|gamesPublisher|\n",
      "+------+--------------+----------+--------------+\n",
      "|    10|         Valve|    Action|         Valve|\n",
      "|    20|         Valve|    Action|         Valve|\n",
      "|    30|         Valve|    Action|         Valve|\n",
      "+------+--------------+----------+--------------+\n",
      "only showing top 3 rows\n",
      "\n",
      "*-------------*-------------*-------------*-------------*-------------\n",
      "\n",
      "\n",
      "TABLE BASIC DESCRIPTION:\n",
      "+-------+------------------+-----------------+--------------+--------------------+\n",
      "|summary|            app_id|   gamesDeveloper|    gamesGenre|      gamesPublisher|\n",
      "+-------+------------------+-----------------+--------------+--------------------+\n",
      "|  count|             46404|            46404|         45824|               40302|\n",
      "|   mean| 311866.9380010344|           2760.8|          null|              3909.0|\n",
      "| stddev|109927.33303035864|2541.485033947235|          null|                 0.0|\n",
      "|    min|                10|  \"Band \"\"????\"\"\"|    Accounting|                    |\n",
      "|    max|            469850|    Étienne Périn|Web Publishing|© 2016 IGS Publis...|\n",
      "+-------+------------------+-----------------+--------------+--------------------+\n",
      "\n",
      "*-------------*-------------*-------------*-------------*-------------\n",
      "DISTINCT COUNT BY COLUMN:\n",
      "\n",
      "\n",
      "      column_name  distinct_count\n",
      "0          app_id           17534\n",
      "1  gamesDeveloper            6582\n",
      "2      gamesGenre              23\n",
      "3  gamesPublisher            4412\n",
      "None\n",
      "\n",
      "\n",
      "TABLE NAME: friends\n",
      "TOTAL ROWS: 11369222\n",
      "\n",
      "\n",
      "*-------------*-------------*-------------*-------------*-------------\n",
      "\n",
      "\n",
      "MISSING VALUE:\n",
      "+----------+----------+------------+------------+-------------+\n",
      "|steam_id_a|steam_id_b|relationship|friend_since|dateretrieved|\n",
      "+----------+----------+------------+------------+-------------+\n",
      "|         0|         0|           0|           0|            0|\n",
      "+----------+----------+------------+------------+-------------+\n",
      "\n",
      "*-------------*-------------*-------------*-------------*-------------\n",
      "\n",
      "\n",
      "PRINT OUT THE 1st 3 LINES:\n",
      "+-----------------+-----------------+------------+-------------------+-------------------+\n",
      "|       steam_id_a|       steam_id_b|relationship|       friend_since|      dateretrieved|\n",
      "+-----------------+-----------------+------------+-------------------+-------------------+\n",
      "|76561197960265744|76561197960265731|      friend|1969-12-31 17:00:00|2013-05-05 01:52:30|\n",
      "|76561197960265744|76561197960265733|      friend|1969-12-31 17:00:00|2013-05-06 15:14:15|\n",
      "|76561197960265744|76561197960265738|      friend|1969-12-31 17:00:00|2013-05-06 15:56:24|\n",
      "+-----------------+-----------------+------------+-------------------+-------------------+\n",
      "only showing top 3 rows\n",
      "\n",
      "*-------------*-------------*-------------*-------------*-------------\n",
      "\n",
      "\n",
      "TABLE BASIC DESCRIPTION:\n",
      "+-------+--------------------+--------------------+------------+\n",
      "|summary|          steam_id_a|          steam_id_b|relationship|\n",
      "+-------+--------------------+--------------------+------------+\n",
      "|  count|            11369222|            11369222|    11369222|\n",
      "|   mean|7.656119796699020...|7.656119799515704E16|        null|\n",
      "| stddev|   4723124.018493564|  3.02297619212723E7|        null|\n",
      "|    min|   76561197960265744|   76561197960265731|      friend|\n",
      "|    max|   76561197975000880|   76561198091413919|      friend|\n",
      "+-------+--------------------+--------------------+------------+\n",
      "\n",
      "*-------------*-------------*-------------*-------------*-------------\n",
      "DISTINCT COUNT BY COLUMN:\n",
      "\n",
      "\n",
      "     column_name  distinct_count\n",
      "0     steam_id_a          149395\n",
      "1     steam_id_b         1779871\n",
      "2   relationship               1\n",
      "3   friend_since         1539874\n",
      "4  dateretrieved          929565\n",
      "None\n",
      "\n",
      "\n",
      "TABLE NAME: groups\n",
      "TOTAL ROWS: 81302317\n",
      "\n",
      "\n",
      "*-------------*-------------*-------------*-------------*-------------\n",
      "\n",
      "\n",
      "MISSING VALUE:\n",
      "+--------+--------+-------------+\n",
      "|steam_id|group_id|dateretrieved|\n",
      "+--------+--------+-------------+\n",
      "|       0|       0|            0|\n",
      "+--------+--------+-------------+\n",
      "\n",
      "*-------------*-------------*-------------*-------------*-------------\n",
      "\n",
      "\n",
      "PRINT OUT THE 1st 3 LINES:\n",
      "+-----------------+--------+-------------------+\n",
      "|         steam_id|group_id|      dateretrieved|\n",
      "+-----------------+--------+-------------------+\n",
      "|76561197960265730|       4|2013-05-06 02:09:28|\n",
      "|76561197960265730|       5|2013-05-06 02:09:28|\n",
      "|76561197960265730|      83|2013-05-06 02:09:28|\n",
      "+-----------------+--------+-------------------+\n",
      "only showing top 3 rows\n",
      "\n",
      "*-------------*-------------*-------------*-------------*-------------\n",
      "\n",
      "\n",
      "TABLE BASIC DESCRIPTION:\n",
      "+-------+--------------------+------------------+\n",
      "|summary|            steam_id|          group_id|\n",
      "+-------+--------------------+------------------+\n",
      "|  count|            81302317|          81302317|\n",
      "|   mean|7.656119802091201...|2366104.8090658104|\n",
      "| stddev| 3.122406819927085E7| 1488160.027130598|\n",
      "|    min|   76561197960265730|                 4|\n",
      "|    max|   76561198086443195|           5248077|\n",
      "+-------+--------------------+------------------+\n",
      "\n",
      "*-------------*-------------*-------------*-------------*-------------\n",
      "DISTINCT COUNT BY COLUMN:\n",
      "\n",
      "\n",
      "     column_name  distinct_count\n",
      "0       steam_id        13380609\n",
      "1       group_id         3082901\n",
      "2  dateretrieved         8720711\n",
      "None\n",
      "\n",
      "\n"
     ]
    }
   ],
   "source": [
    "# Incase we want to print out the basic information of all tables:\n",
    "tables = [game2_df, app_id_info, game_dgp, friends, groups]\n",
    "for tab in tables:\n",
    "    print('TABLE NAME:', tab.name)\n",
    "    print(basic_info(tab))\n",
    "    print('\\n')"
   ]
  },
  {
   "cell_type": "code",
   "execution_count": 271,
   "metadata": {},
   "outputs": [],
   "source": [
    "positiveReviewPercent = spark.read.csv('/user/tamng/jwht/SteamData/positiveReviewPercent.csv',\\\n",
    "                             inferSchema = True, header = True)"
   ]
  },
  {
   "cell_type": "code",
   "execution_count": 272,
   "metadata": {},
   "outputs": [
    {
     "name": "stdout",
     "output_type": "stream",
     "text": [
      "+------+--------------------+----+-----+--------------+------+--------------+-------------+---------------------+\n",
      "|app_id|               title|type|price|   releaseDate|rating|ageRequirement|isMultiplayer|positiveReviewPercent|\n",
      "+------+--------------------+----+-----+--------------+------+--------------+-------------+---------------------+\n",
      "|    10|      Counter-Strike|game| 9.99|11/1/2000 0:00|    88|             0|            1|                   96|\n",
      "|    20|Team Fortress Cla...|game| 4.99| 4/1/1999 0:00|    -1|             0|            1|                   82|\n",
      "|    30|       Day of Defeat|game| 4.99| 5/1/2003 0:00|    79|             0|            1|                   86|\n",
      "+------+--------------------+----+-----+--------------+------+--------------+-------------+---------------------+\n",
      "only showing top 3 rows\n",
      "\n"
     ]
    }
   ],
   "source": [
    "positiveReviewPercent.show(3, truncate = True)"
   ]
  },
  {
   "cell_type": "code",
   "execution_count": 273,
   "metadata": {},
   "outputs": [
    {
     "name": "stdout",
     "output_type": "stream",
     "text": [
      "+------+-----+----+-----+-----------+------+--------------+-------------+---------------------+\n",
      "|app_id|title|type|price|releaseDate|rating|ageRequirement|isMultiplayer|positiveReviewPercent|\n",
      "+------+-----+----+-----+-----------+------+--------------+-------------+---------------------+\n",
      "|     0|    0|   0|    0|          0|     0|             0|            0|                    0|\n",
      "+------+-----+----+-----+-----------+------+--------------+-------------+---------------------+\n",
      "\n"
     ]
    }
   ],
   "source": [
    "check_missing(positiveReviewPercent)"
   ]
  },
  {
   "cell_type": "markdown",
   "metadata": {},
   "source": [
    "_Replace 'No review' with 999_"
   ]
  },
  {
   "cell_type": "code",
   "execution_count": 282,
   "metadata": {},
   "outputs": [],
   "source": [
    "positiveReviewPercent = positiveReviewPercent.withColumn(\"positiveReviewPercent\", \\\n",
    "              when(positiveReviewPercent[\"positiveReviewPercent\"] == 'No review', 999).otherwise(positiveReviewPercent[\"positiveReviewPercent\"]))"
   ]
  },
  {
   "cell_type": "code",
   "execution_count": 283,
   "metadata": {},
   "outputs": [
    {
     "name": "stdout",
     "output_type": "stream",
     "text": [
      "+------+--------------------+----+-----+---------------+------+--------------+-------------+---------------------+\n",
      "|app_id|               title|type|price|    releaseDate|rating|ageRequirement|isMultiplayer|positiveReviewPercent|\n",
      "+------+--------------------+----+-----+---------------+------+--------------+-------------+---------------------+\n",
      "|    20|Team Fortress Cla...|game| 4.99|  4/1/1999 0:00|    -1|             0|            1|                   82|\n",
      "|    40|  Deathmatch Classic|game| 4.99|  6/1/2001 0:00|    -1|             0|            1|                   79|\n",
      "|    50|Half-Life: Opposi...|game| 4.99| 11/1/1999 0:00|    -1|             0|            1|                   95|\n",
      "|    60|            Ricochet|game| 4.99| 11/1/2000 0:00|    -1|             0|            1|                   78|\n",
      "|   660|Portal 2 Sixense ...| dlc|    0|  1/1/1970 0:00|    -1|             0|            0|                  999|\n",
      "|  3302|Bejeweled 2 Delux...|demo|    0|  1/1/1970 0:00|    -1|             0|            0|                  999|\n",
      "|   280|   Half-Life: Source|game| 9.99|  6/1/2004 0:00|    -1|             0|            0|                   77|\n",
      "|   320|Half-Life 2: Deat...|game| 4.99| 11/1/2004 0:00|    -1|             0|            1|                   74|\n",
      "|   340|Half-Life 2: Lost...|game|    0|10/27/2005 0:00|    -1|             0|            0|                   53|\n",
      "|   360|Half-Life Deathma...|game| 9.99|  5/1/2006 0:00|    -1|             0|            1|                   75|\n",
      "|  3312|Chuzzle Deluxe Fr...|demo|    0|  1/1/1970 0:00|    -1|             0|            0|                  999|\n",
      "|  3322|Insaniquarium Del...|demo|    0|  1/1/1970 0:00|    -1|             0|            0|                  999|\n",
      "|  3332|Zuma Deluxe Free ...|demo|    0|  1/1/1970 0:00|    -1|             0|            0|                  999|\n",
      "|  3342|AstroPop Deluxe F...|demo|    0|  1/1/1970 0:00|    -1|             0|            0|                  999|\n",
      "|  3352|Bejeweled Deluxe ...|demo|    0|  1/1/1970 0:00|    -1|             0|            0|                  999|\n",
      "|  1230|        Mare Nostrum| mod|    0|10/17/2008 0:00|    -1|             0|            1|                   86|\n",
      "|  1256|Killing Floor Out...| dlc| 7.99| 7/24/2009 0:00|    -1|             0|            1|                   89|\n",
      "|  1257|Killing Floor: Ni...| dlc| 7.99| 5/19/2010 0:00|    -1|             0|            1|                   91|\n",
      "|  1280|Darkest Hour: Eur...| mod|    0|  6/9/2009 0:00|    -1|             0|            1|                   88|\n",
      "|  3362|Big Money! Deluxe...|demo|    0|  1/1/1970 0:00|    -1|             0|            0|                  999|\n",
      "|  3372|Bookworm Deluxe F...|demo|    0|  1/1/1970 0:00|    -1|             0|            0|                  999|\n",
      "|  3382|Dynomite Deluxe F...|demo|    0|  1/1/1970 0:00|    -1|             0|            0|                  999|\n",
      "|  3392|Feeding Frenzy 2 ...|demo|    0|  1/1/1970 0:00|    -1|             0|            0|                  999|\n",
      "|  3402|Hammer Heads Delu...|demo|    0|  1/1/1970 0:00|    -1|             0|            0|                  999|\n",
      "|  3412|Heavy Weapon Delu...|demo|    0|  1/1/1970 0:00|    -1|             0|            0|                  999|\n",
      "|  3422|Iggle Pop Deluxe ...|demo|    0|  1/1/1970 0:00|    -1|             0|            0|                  999|\n",
      "|  3432|Pizza Frenzy Delu...|demo|    0|  1/1/1970 0:00|    -1|             0|            0|                  999|\n",
      "|  3442|Rocket Mania Delu...|demo|    0|  1/1/1970 0:00|    -1|             0|            0|                  999|\n",
      "|  2200|     Quake III Arena|game|19.99|  8/3/2007 0:00|    -1|             0|            1|                   95|\n",
      "|  2270|      Wolfenstein 3D|game| 4.99|  8/3/2007 0:00|    -1|             0|            0|                   94|\n",
      "+------+--------------------+----+-----+---------------+------+--------------+-------------+---------------------+\n",
      "only showing top 30 rows\n",
      "\n"
     ]
    }
   ],
   "source": [
    "positiveReviewPercent.filter(col(\"rating\") == -1).show(30)"
   ]
  },
  {
   "cell_type": "code",
   "execution_count": 284,
   "metadata": {},
   "outputs": [
    {
     "data": {
      "text/plain": [
       "8564"
      ]
     },
     "execution_count": 284,
     "metadata": {},
     "output_type": "execute_result"
    }
   ],
   "source": [
    "positiveReviewPercent.filter(col(\"positiveReviewPercent\") == 999).count()"
   ]
  },
  {
   "cell_type": "code",
   "execution_count": 281,
   "metadata": {},
   "outputs": [
    {
     "data": {
      "text/plain": [
       "17783"
      ]
     },
     "execution_count": 281,
     "metadata": {},
     "output_type": "execute_result"
    }
   ],
   "source": [
    "positiveReviewPercent.count()"
   ]
  },
  {
   "cell_type": "code",
   "execution_count": 285,
   "metadata": {},
   "outputs": [],
   "source": [
    "# Save data\n",
    "positiveReviewPercent.write.csv('/user/tamng/jwht/CleanData/app_if_info_PosReview.csv', header = True)"
   ]
  },
  {
   "cell_type": "code",
   "execution_count": 288,
   "metadata": {},
   "outputs": [
    {
     "name": "stdout",
     "output_type": "stream",
     "text": [
      "root\n",
      " |-- app_id: integer (nullable = true)\n",
      " |-- title: string (nullable = true)\n",
      " |-- type: string (nullable = true)\n",
      " |-- price: string (nullable = true)\n",
      " |-- releaseDate: string (nullable = true)\n",
      " |-- rating: string (nullable = true)\n",
      " |-- ageRequirement: integer (nullable = true)\n",
      " |-- isMultiplayer: integer (nullable = true)\n",
      " |-- positiveReviewPercent: string (nullable = true)\n",
      "\n"
     ]
    }
   ],
   "source": [
    "positiveReviewPercent.printSchema()"
   ]
  }
 ],
 "metadata": {
  "kernelspec": {
   "display_name": "Python 3",
   "language": "python",
   "name": "python3"
  },
  "language_info": {
   "codemirror_mode": {
    "name": "ipython",
    "version": 3
   },
   "file_extension": ".py",
   "mimetype": "text/x-python",
   "name": "python",
   "nbconvert_exporter": "python",
   "pygments_lexer": "ipython3",
   "version": "3.7.4"
  }
 },
 "nbformat": 4,
 "nbformat_minor": 4
}
